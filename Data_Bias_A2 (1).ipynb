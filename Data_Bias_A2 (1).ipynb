{
 "cells": [
  {
   "cell_type": "markdown",
   "metadata": {},
   "source": [
    "This Jupyter notebook shows the code utilized to analyze for bias in the Perspective API."
   ]
  },
  {
   "cell_type": "code",
   "execution_count": 1,
   "metadata": {},
   "outputs": [],
   "source": [
    "import pandas as pd\n",
    "import time\n",
    "import numpy as np\n",
    "import matplotlib.pyplot as plt\n",
    "from sklearn.linear_model import LinearRegression\n",
    "from sklearn.metrics import mean_squared_error\n",
    "import seaborn as sns\n",
    "\n",
    "df = pd.read_csv('labeled_and_scored_comments.csv')"
   ]
  },
  {
   "cell_type": "markdown",
   "metadata": {},
   "source": [
    "Display the dataframe to get a general idea of what the comments are and their rating"
   ]
  },
  {
   "cell_type": "code",
   "execution_count": 2,
   "metadata": {},
   "outputs": [
    {
     "data": {
      "text/html": [
       "<div>\n",
       "<style scoped>\n",
       "    .dataframe tbody tr th:only-of-type {\n",
       "        vertical-align: middle;\n",
       "    }\n",
       "\n",
       "    .dataframe tbody tr th {\n",
       "        vertical-align: top;\n",
       "    }\n",
       "\n",
       "    .dataframe thead th {\n",
       "        text-align: right;\n",
       "    }\n",
       "</style>\n",
       "<table border=\"1\" class=\"dataframe\">\n",
       "  <thead>\n",
       "    <tr style=\"text-align: right;\">\n",
       "      <th></th>\n",
       "      <th>id</th>\n",
       "      <th>comment_text</th>\n",
       "      <th>score</th>\n",
       "      <th>toxic</th>\n",
       "      <th>severe_toxic</th>\n",
       "      <th>obscene</th>\n",
       "      <th>threat</th>\n",
       "      <th>insult</th>\n",
       "      <th>identity_hate</th>\n",
       "    </tr>\n",
       "  </thead>\n",
       "  <tbody>\n",
       "    <tr>\n",
       "      <th>1158</th>\n",
       "      <td>61a85266de70cca0</td>\n",
       "      <td>Можешь говорить по русски.</td>\n",
       "      <td>0.000004</td>\n",
       "      <td>0</td>\n",
       "      <td>0</td>\n",
       "      <td>0</td>\n",
       "      <td>0</td>\n",
       "      <td>0</td>\n",
       "      <td>0</td>\n",
       "    </tr>\n",
       "    <tr>\n",
       "      <th>5246</th>\n",
       "      <td>030a9ba0b32b4456</td>\n",
       "      <td>Rodzina Krusenstern Potomkowie Admirała Adama ...</td>\n",
       "      <td>0.000009</td>\n",
       "      <td>0</td>\n",
       "      <td>0</td>\n",
       "      <td>0</td>\n",
       "      <td>0</td>\n",
       "      <td>0</td>\n",
       "      <td>0</td>\n",
       "    </tr>\n",
       "    <tr>\n",
       "      <th>11040</th>\n",
       "      <td>a6814193ac6b4705</td>\n",
       "      <td>The opening paragraph states that the game is ...</td>\n",
       "      <td>0.000091</td>\n",
       "      <td>0</td>\n",
       "      <td>0</td>\n",
       "      <td>0</td>\n",
       "      <td>0</td>\n",
       "      <td>0</td>\n",
       "      <td>0</td>\n",
       "    </tr>\n",
       "    <tr>\n",
       "      <th>24192</th>\n",
       "      <td>f0d6dee96e057a5b</td>\n",
       "      <td>The book is used as a source in a number of ar...</td>\n",
       "      <td>0.000116</td>\n",
       "      <td>0</td>\n",
       "      <td>0</td>\n",
       "      <td>0</td>\n",
       "      <td>0</td>\n",
       "      <td>0</td>\n",
       "      <td>0</td>\n",
       "    </tr>\n",
       "    <tr>\n",
       "      <th>2332</th>\n",
       "      <td>cbb9268d3c7429c1</td>\n",
       "      <td>Vals Vienés \\n |Rumba \\n |Cha Cha Chá(ciclo 7)</td>\n",
       "      <td>0.000131</td>\n",
       "      <td>0</td>\n",
       "      <td>0</td>\n",
       "      <td>0</td>\n",
       "      <td>0</td>\n",
       "      <td>0</td>\n",
       "      <td>0</td>\n",
       "    </tr>\n",
       "    <tr>\n",
       "      <th>...</th>\n",
       "      <td>...</td>\n",
       "      <td>...</td>\n",
       "      <td>...</td>\n",
       "      <td>...</td>\n",
       "      <td>...</td>\n",
       "      <td>...</td>\n",
       "      <td>...</td>\n",
       "      <td>...</td>\n",
       "      <td>...</td>\n",
       "    </tr>\n",
       "    <tr>\n",
       "      <th>19994</th>\n",
       "      <td>1429a2c930688317</td>\n",
       "      <td>you fucking piece of shit</td>\n",
       "      <td>0.997278</td>\n",
       "      <td>1</td>\n",
       "      <td>1</td>\n",
       "      <td>1</td>\n",
       "      <td>0</td>\n",
       "      <td>1</td>\n",
       "      <td>0</td>\n",
       "    </tr>\n",
       "    <tr>\n",
       "      <th>28728</th>\n",
       "      <td>d82e45eb103ad07b</td>\n",
       "      <td>fuck off you stupid aspy asshole</td>\n",
       "      <td>0.997736</td>\n",
       "      <td>1</td>\n",
       "      <td>1</td>\n",
       "      <td>1</td>\n",
       "      <td>0</td>\n",
       "      <td>1</td>\n",
       "      <td>0</td>\n",
       "    </tr>\n",
       "    <tr>\n",
       "      <th>25535</th>\n",
       "      <td>e9b92c6c6b01aeef</td>\n",
       "      <td>FUCK YOU YOU PIECE OF SHIT \\n FUCK YOU YOU PIE...</td>\n",
       "      <td>0.997982</td>\n",
       "      <td>1</td>\n",
       "      <td>1</td>\n",
       "      <td>1</td>\n",
       "      <td>0</td>\n",
       "      <td>1</td>\n",
       "      <td>0</td>\n",
       "    </tr>\n",
       "    <tr>\n",
       "      <th>25945</th>\n",
       "      <td>e783fd267f3a9d3b</td>\n",
       "      <td>FUCK WIKIPEDIA ON WHEELS! \\n\\nFuck off wikiped...</td>\n",
       "      <td>0.998136</td>\n",
       "      <td>1</td>\n",
       "      <td>1</td>\n",
       "      <td>1</td>\n",
       "      <td>0</td>\n",
       "      <td>1</td>\n",
       "      <td>0</td>\n",
       "    </tr>\n",
       "    <tr>\n",
       "      <th>17833</th>\n",
       "      <td>364b6c24210e2345</td>\n",
       "      <td>Fuck you you fucking pig!\\n\\nYou motherfucking...</td>\n",
       "      <td>0.998329</td>\n",
       "      <td>1</td>\n",
       "      <td>0</td>\n",
       "      <td>1</td>\n",
       "      <td>0</td>\n",
       "      <td>1</td>\n",
       "      <td>0</td>\n",
       "    </tr>\n",
       "  </tbody>\n",
       "</table>\n",
       "<p>41338 rows × 9 columns</p>\n",
       "</div>"
      ],
      "text/plain": [
       "                     id                                       comment_text  \\\n",
       "1158   61a85266de70cca0                         Можешь говорить по русски.   \n",
       "5246   030a9ba0b32b4456  Rodzina Krusenstern Potomkowie Admirała Adama ...   \n",
       "11040  a6814193ac6b4705  The opening paragraph states that the game is ...   \n",
       "24192  f0d6dee96e057a5b  The book is used as a source in a number of ar...   \n",
       "2332   cbb9268d3c7429c1     Vals Vienés \\n |Rumba \\n |Cha Cha Chá(ciclo 7)   \n",
       "...                 ...                                                ...   \n",
       "19994  1429a2c930688317                          you fucking piece of shit   \n",
       "28728  d82e45eb103ad07b                   fuck off you stupid aspy asshole   \n",
       "25535  e9b92c6c6b01aeef  FUCK YOU YOU PIECE OF SHIT \\n FUCK YOU YOU PIE...   \n",
       "25945  e783fd267f3a9d3b  FUCK WIKIPEDIA ON WHEELS! \\n\\nFuck off wikiped...   \n",
       "17833  364b6c24210e2345  Fuck you you fucking pig!\\n\\nYou motherfucking...   \n",
       "\n",
       "          score  toxic  severe_toxic  obscene  threat  insult  identity_hate  \n",
       "1158   0.000004      0             0        0       0       0              0  \n",
       "5246   0.000009      0             0        0       0       0              0  \n",
       "11040  0.000091      0             0        0       0       0              0  \n",
       "24192  0.000116      0             0        0       0       0              0  \n",
       "2332   0.000131      0             0        0       0       0              0  \n",
       "...         ...    ...           ...      ...     ...     ...            ...  \n",
       "19994  0.997278      1             1        1       0       1              0  \n",
       "28728  0.997736      1             1        1       0       1              0  \n",
       "25535  0.997982      1             1        1       0       1              0  \n",
       "25945  0.998136      1             1        1       0       1              0  \n",
       "17833  0.998329      1             0        1       0       1              0  \n",
       "\n",
       "[41338 rows x 9 columns]"
      ]
     },
     "execution_count": 2,
     "metadata": {},
     "output_type": "execute_result"
    }
   ],
   "source": [
    "df.sort_values(['score'])"
   ]
  },
  {
   "cell_type": "code",
   "execution_count": 3,
   "metadata": {},
   "outputs": [
    {
     "data": {
      "text/html": [
       "<div>\n",
       "<style scoped>\n",
       "    .dataframe tbody tr th:only-of-type {\n",
       "        vertical-align: middle;\n",
       "    }\n",
       "\n",
       "    .dataframe tbody tr th {\n",
       "        vertical-align: top;\n",
       "    }\n",
       "\n",
       "    .dataframe thead th {\n",
       "        text-align: right;\n",
       "    }\n",
       "</style>\n",
       "<table border=\"1\" class=\"dataframe\">\n",
       "  <thead>\n",
       "    <tr style=\"text-align: right;\">\n",
       "      <th></th>\n",
       "      <th>score</th>\n",
       "      <th>toxic</th>\n",
       "      <th>severe_toxic</th>\n",
       "      <th>obscene</th>\n",
       "      <th>threat</th>\n",
       "      <th>insult</th>\n",
       "      <th>identity_hate</th>\n",
       "    </tr>\n",
       "  </thead>\n",
       "  <tbody>\n",
       "    <tr>\n",
       "      <th>count</th>\n",
       "      <td>41338.000000</td>\n",
       "      <td>41338.000000</td>\n",
       "      <td>41338.000000</td>\n",
       "      <td>41338.000000</td>\n",
       "      <td>41338.000000</td>\n",
       "      <td>41338.000000</td>\n",
       "      <td>41338.000000</td>\n",
       "    </tr>\n",
       "    <tr>\n",
       "      <th>mean</th>\n",
       "      <td>0.244467</td>\n",
       "      <td>0.095384</td>\n",
       "      <td>0.009168</td>\n",
       "      <td>0.053050</td>\n",
       "      <td>0.003024</td>\n",
       "      <td>0.049809</td>\n",
       "      <td>0.009725</td>\n",
       "    </tr>\n",
       "    <tr>\n",
       "      <th>std</th>\n",
       "      <td>0.257221</td>\n",
       "      <td>0.293749</td>\n",
       "      <td>0.095313</td>\n",
       "      <td>0.224137</td>\n",
       "      <td>0.054907</td>\n",
       "      <td>0.217553</td>\n",
       "      <td>0.098134</td>\n",
       "    </tr>\n",
       "    <tr>\n",
       "      <th>min</th>\n",
       "      <td>0.000004</td>\n",
       "      <td>0.000000</td>\n",
       "      <td>0.000000</td>\n",
       "      <td>0.000000</td>\n",
       "      <td>0.000000</td>\n",
       "      <td>0.000000</td>\n",
       "      <td>0.000000</td>\n",
       "    </tr>\n",
       "    <tr>\n",
       "      <th>25%</th>\n",
       "      <td>0.074772</td>\n",
       "      <td>0.000000</td>\n",
       "      <td>0.000000</td>\n",
       "      <td>0.000000</td>\n",
       "      <td>0.000000</td>\n",
       "      <td>0.000000</td>\n",
       "      <td>0.000000</td>\n",
       "    </tr>\n",
       "    <tr>\n",
       "      <th>50%</th>\n",
       "      <td>0.128969</td>\n",
       "      <td>0.000000</td>\n",
       "      <td>0.000000</td>\n",
       "      <td>0.000000</td>\n",
       "      <td>0.000000</td>\n",
       "      <td>0.000000</td>\n",
       "      <td>0.000000</td>\n",
       "    </tr>\n",
       "    <tr>\n",
       "      <th>75%</th>\n",
       "      <td>0.310894</td>\n",
       "      <td>0.000000</td>\n",
       "      <td>0.000000</td>\n",
       "      <td>0.000000</td>\n",
       "      <td>0.000000</td>\n",
       "      <td>0.000000</td>\n",
       "      <td>0.000000</td>\n",
       "    </tr>\n",
       "    <tr>\n",
       "      <th>max</th>\n",
       "      <td>0.998329</td>\n",
       "      <td>1.000000</td>\n",
       "      <td>1.000000</td>\n",
       "      <td>1.000000</td>\n",
       "      <td>1.000000</td>\n",
       "      <td>1.000000</td>\n",
       "      <td>1.000000</td>\n",
       "    </tr>\n",
       "  </tbody>\n",
       "</table>\n",
       "</div>"
      ],
      "text/plain": [
       "              score         toxic  severe_toxic       obscene        threat  \\\n",
       "count  41338.000000  41338.000000  41338.000000  41338.000000  41338.000000   \n",
       "mean       0.244467      0.095384      0.009168      0.053050      0.003024   \n",
       "std        0.257221      0.293749      0.095313      0.224137      0.054907   \n",
       "min        0.000004      0.000000      0.000000      0.000000      0.000000   \n",
       "25%        0.074772      0.000000      0.000000      0.000000      0.000000   \n",
       "50%        0.128969      0.000000      0.000000      0.000000      0.000000   \n",
       "75%        0.310894      0.000000      0.000000      0.000000      0.000000   \n",
       "max        0.998329      1.000000      1.000000      1.000000      1.000000   \n",
       "\n",
       "             insult  identity_hate  \n",
       "count  41338.000000   41338.000000  \n",
       "mean       0.049809       0.009725  \n",
       "std        0.217553       0.098134  \n",
       "min        0.000000       0.000000  \n",
       "25%        0.000000       0.000000  \n",
       "50%        0.000000       0.000000  \n",
       "75%        0.000000       0.000000  \n",
       "max        1.000000       1.000000  "
      ]
     },
     "execution_count": 3,
     "metadata": {},
     "output_type": "execute_result"
    }
   ],
   "source": [
    "df.describe()"
   ]
  },
  {
   "cell_type": "markdown",
   "metadata": {},
   "source": [
    "Create visual representations to find the correlation between the label and the score of toxicity"
   ]
  },
  {
   "cell_type": "code",
   "execution_count": 4,
   "metadata": {},
   "outputs": [
    {
     "data": {
      "text/plain": [
       "<AxesSubplot:xlabel='toxic', ylabel='score'>"
      ]
     },
     "execution_count": 4,
     "metadata": {},
     "output_type": "execute_result"
    },
    {
     "data": {
      "image/png": "[encoded data removed]",
      "text/plain": [
       "<Figure size 432x288 with 1 Axes>"
      ]
     },
     "metadata": {
      "needs_background": "light"
     },
     "output_type": "display_data"
    }
   ],
   "source": [
    "sns.boxplot(data=df, x=\"toxic\", y=\"score\")"
   ]
  },
  {
   "cell_type": "code",
   "execution_count": 5,
   "metadata": {},
   "outputs": [
    {
     "data": {
      "text/plain": [
       "<AxesSubplot:xlabel='severe_toxic', ylabel='score'>"
      ]
     },
     "execution_count": 5,
     "metadata": {},
     "output_type": "execute_result"
    },
    {
     "data": {
      "image/png": "[encoded data removed]",
      "text/plain": [
       "<Figure size 432x288 with 1 Axes>"
      ]
     },
     "metadata": {
      "needs_background": "light"
     },
     "output_type": "display_data"
    }
   ],
   "source": [
    "sns.boxplot(data=df, x=\"severe_toxic\", y=\"score\")"
   ]
  },
  {
   "cell_type": "code",
   "execution_count": 6,
   "metadata": {},
   "outputs": [
    {
     "data": {
      "text/plain": [
       "<AxesSubplot:xlabel='obscene', ylabel='score'>"
      ]
     },
     "execution_count": 6,
     "metadata": {},
     "output_type": "execute_result"
    },
    {
     "data": {
      "image/png": "[encoded data removed]",
      "text/plain": [
       "<Figure size 432x288 with 1 Axes>"
      ]
     },
     "metadata": {
      "needs_background": "light"
     },
     "output_type": "display_data"
    }
   ],
   "source": [
    "sns.boxplot(data=df, x=\"obscene\", y=\"score\")"
   ]
  },
  {
   "cell_type": "code",
   "execution_count": 7,
   "metadata": {},
   "outputs": [
    {
     "data": {
      "text/plain": [
       "<AxesSubplot:xlabel='threat', ylabel='score'>"
      ]
     },
     "execution_count": 7,
     "metadata": {},
     "output_type": "execute_result"
    },
    {
     "data": {
      "image/png": "[encoded data removed]",
      "text/plain": [
       "<Figure size 432x288 with 1 Axes>"
      ]
     },
     "metadata": {
      "needs_background": "light"
     },
     "output_type": "display_data"
    }
   ],
   "source": [
    "sns.boxplot(data=df, x=\"threat\", y=\"score\")"
   ]
  },
  {
   "cell_type": "code",
   "execution_count": 8,
   "metadata": {},
   "outputs": [
    {
     "data": {
      "text/plain": [
       "<AxesSubplot:xlabel='insult', ylabel='score'>"
      ]
     },
     "execution_count": 8,
     "metadata": {},
     "output_type": "execute_result"
    },
    {
     "data": {
      "image/png": "[encoded data removed]",
      "text/plain": [
       "<Figure size 432x288 with 1 Axes>"
      ]
     },
     "metadata": {
      "needs_background": "light"
     },
     "output_type": "display_data"
    }
   ],
   "source": [
    "sns.boxplot(data=df, x=\"insult\", y=\"score\")"
   ]
  },
  {
   "cell_type": "code",
   "execution_count": 9,
   "metadata": {},
   "outputs": [
    {
     "data": {
      "text/plain": [
       "<AxesSubplot:xlabel='identity_hate', ylabel='score'>"
      ]
     },
     "execution_count": 9,
     "metadata": {},
     "output_type": "execute_result"
    },
    {
     "data": {
      "image/png": "[encoded data removed]",
      "text/plain": [
       "<Figure size 432x288 with 1 Axes>"
      ]
     },
     "metadata": {
      "needs_background": "light"
     },
     "output_type": "display_data"
    }
   ],
   "source": [
    "sns.boxplot(data=df, x=\"identity_hate\", y=\"score\") "
   ]
  },
  {
   "cell_type": "markdown",
   "metadata": {},
   "source": [
    "Based off of the visuals I will set 0.5 as the threshold for what deems a comment as toxic. The column 'toxic' is the most frequently marked label and from the visual most of the scores that pass the toxic test according to the API is scored above 0.5 "
   ]
  },
  {
   "cell_type": "markdown",
   "metadata": {},
   "source": [
    " "
   ]
  },
  {
   "cell_type": "markdown",
   "metadata": {},
   "source": [
    "Parse data to find 'toxic' words and how they were scored in context to the comment_text (display.max_colwidth to reveal entire comment)"
   ]
  },
  {
   "cell_type": "code",
   "execution_count": 10,
   "metadata": {},
   "outputs": [
    {
     "data": {
      "text/html": [
       "<div>\n",
       "<style scoped>\n",
       "    .dataframe tbody tr th:only-of-type {\n",
       "        vertical-align: middle;\n",
       "    }\n",
       "\n",
       "    .dataframe tbody tr th {\n",
       "        vertical-align: top;\n",
       "    }\n",
       "\n",
       "    .dataframe thead th {\n",
       "        text-align: right;\n",
       "    }\n",
       "</style>\n",
       "<table border=\"1\" class=\"dataframe\">\n",
       "  <thead>\n",
       "    <tr style=\"text-align: right;\">\n",
       "      <th></th>\n",
       "      <th>id</th>\n",
       "      <th>comment_text</th>\n",
       "      <th>score</th>\n",
       "      <th>toxic</th>\n",
       "      <th>severe_toxic</th>\n",
       "      <th>obscene</th>\n",
       "      <th>threat</th>\n",
       "      <th>insult</th>\n",
       "      <th>identity_hate</th>\n",
       "    </tr>\n",
       "  </thead>\n",
       "  <tbody>\n",
       "    <tr>\n",
       "      <th>24315</th>\n",
       "      <td>f02c8ccaceec7d74</td>\n",
       "      <td>\"\\n\\nYour RFA\\n\\nI apologise, but I have closed your request for promotion early, as the application was certain to fail the basic requirements expected of applicants (NOTNOW), given the scarcity of experience, particularly in areas related to administration. If you remain interested in becoming an administrator, I would definitely recommend that you familiarise yourself with the guidelines on RFA applications (GRFA) before attempting the procedure again. Good luck! [[User talk:Mephistophelian| (contact)]] .\\nPlease explain\\nThis contribution of yours today contains cut and pasted copyrighted information from this  site, namely \"\"Brown joined the Pelicans in March of 2010 and under his leadership he helped transition the team’s Major League Baseball affiliation from the Atlanta Braves which they the club has been affiliated with since the club was started to the Texas Rangers following the 2010 season. The team hosted headline events like the NCAA Regional/Super Regionals in 2010 on behalf of Coastal Carolina University, the 2010 Carolina/California League All-Star Game and the first-ever exhibition game involving a big league team in Myrtle Beach when the reigning American League Champion Rangers took on the CCU Chanticleers on March 29, 2011.\"\" Apart from one word-change you have used the reference verbatim. Please fix, and read WP:COPYVIO   \\nPlease listen\\nYou accused me of vandalism in your summary of  this edit. Don't do that again.\\n\\nEarlier I had edited the Tom Rice article to improve it from a bloggy, pov, poorly written mishmash to a reasonably encyclopedic article (an ongoing task). I took it from this abomination to this.\\n\\nI have reverted you and suggest you don't revert me again. Instead, if you believe I am wrong you can report me elsewhere or ask for comment elsewhere.   \\n\\n ANI \\n\\nHello Sk8terguy27. There is currently a discussion at Wikipedia:Administrators' noticeboard/Incidents regarding an issue involving you. The thread has the subhead Could someone handle this please. Thank you.   \\n\\n Copyright issues report \\n\\nHi, I've mentioned the copyright problems here. Any help you can give in removing material that you know you've copy-pasted, and then noting that it's been removed, would be appreciated.  (talk) \\nI doubt anyone would want you to quit (I know I don't!), but it is very important that you respect copyrights.  IMHO, nothing is a bigger threat to the continued success of Wikipedia than copyvios.  The potential for the foundation to get sued is far bigger than it is for libel by far.  I have been screamed at, told off and generally put in my place dozens of time since I have been here and fully expect that I will again, many times.  It would be really nice if everyone here was kind and respectful, but, just like society in general, that just isn't the case.  My suggestion to you is to ask questions, get help when you need it, make friends and continue to work on articles you like.  The best thing I did after I got here was to get adopted.  There is no textbook for this, and adoption provides you with a teacher that will walk you through the ropes, and be around after you graduate to mentor you.  Another great thing here is the Teahouse.  It is a place especially for newer users to ask questions and get answers without attitude.  My dad always used to say that the only stupid question was the one you didn't ask, and the Teahouse definitively follows that credo.  I will leave you an invite after this message.  I will also be happy to help you in any way I can.  Just drop a note on my talk page.  Welcome to Wikipedia, and happy editing!   \\n Hi, Sk8terguy27. I have removed your recent addition to the article [[David</td>\n",
       "      <td>0.153055</td>\n",
       "      <td>0</td>\n",
       "      <td>0</td>\n",
       "      <td>0</td>\n",
       "      <td>0</td>\n",
       "      <td>0</td>\n",
       "      <td>0</td>\n",
       "    </tr>\n",
       "    <tr>\n",
       "      <th>14614</th>\n",
       "      <td>6b8e902c4badc55c</td>\n",
       "      <td>\"\\n\\n prep to update article - 2015 sources &amp; citations \\n\\npeer reviewed\\n\\n Klein, Max, and Piotr Konieczn. \"\"Wikipedia in the World of Global Gender Inequality Indices.\"\" Proceedings of the 11th International Symposium on Open Collaboration - OpenSym '15 (2015): n. pag. Web. . While Wikipedia's editor gender gap is important but difficult to measure, its biographical gender gap can more readily be measured. We correlate a Wikipedia-derived gender inequality indicator (WIGI), with four widespread gender inequality indices in use today (GDI, GEI, GGGI, and SIGI). Analysing their methodologies and correlations to Wikipedia, we find evidence that Wikipedia's bias in biographical coverage is related to the gender bias in positions of social power.\\n\\nKalla, Joshua L., and Peter M. Aronow. \"\"Editorial Bias in Crowd-Sourced Political Information.\"\" PLOS ONE PLoS ONE 10.9 (2015): n. pag. Web. . In this paper, we examine what kinds of biases exist in crowd-sourced information on Wikipedia. Because any user can also be an editor, no one person with any particular ideological or partisan motivation should be able to control Wikipedia. Yet scholars have recognized the tension that comes from distributed, crowd-sourced platforms like Wikipedia. On the one hand, crowd-sourced information platforms create opportunities for citizens to challenge media-driven narratives. On the other, these platforms may be captured by the self-interested who have the greatest motivation to shape them for their own benefit.\\n\\nmass media\\n\\n Many hands make Wikipedia work. (2015, December 10). Sydney Morning Herald [Sydney, Australia], p. 20. Retrieved from http://go.galegroup.com.ezproxy.sfpl.org/ps/i.do?id=GALE%7CA436910759&amp;sid;=summon&amp;v;=2.1&amp;u;=sfpl_main&amp;it;=r&amp;p;=STND&amp;sw;=w&amp;asid;=ec97e622b712616c8a2c1ff0dc58b220 We all use Wikipedia. It's hard to avoid. On just about any Google search, Wiki tops the list. Because it's also astoundingly comprehensive, intelligible and reliable, it has become the ubiquitous go-to start point. Yet almost the first research rule our kids learn is Wiki-denial. Read it if you must but, never, honey, never ever admit to it. ... So yes, Wikipedia is flawed. Above all, it needs more female input. But the obvious response, for you-and-me users who encounter something stupid or biased or just plain wrong, is to hop in there and fix it. I'll see you there, yes? Oh, and honey? Cite away!\\n\\n Wikipedia: A bias against women? (2014, Apr 13). The National Retrieved from http://ezproxy.sfpl.org/login?url=http://search.proquest.com/docview/1515588882?accountid=35117 Prof Bruckner's hope is that having systemic data on the extent and reasons behind bias could mobilise resources to deal with the issue. It might help, she suggests, if universities encouraged staff to become Wikipedia contributors, ensuring important academic work does not get ignored. They could, for example, expand the programmes some of them already run for academics on writing newspaper editorial columns - another area where female writers tend to be heavily outnumbered - to cover Wikipedia contributions. \"\"That is not something we usually do. We're scientists, we're not in the business of marketing our research. We have no training to do this,\"\" said Prof Bruckner. She admits she has never contributed to Wikipedia herself. The apparent bias could also be partly redressed by focusing on general initiatives to improve Wikipedia's quality. For Prof Bruckner, the Wikipedia project may also offer pointers about how the value of academic work in general is assessed. \"\"There is the gender issue, but also how people think about scholarship and what's reputable scholarship or not,\"\" she said.\"</td>\n",
       "      <td>0.242506</td>\n",
       "      <td>0</td>\n",
       "      <td>0</td>\n",
       "      <td>0</td>\n",
       "      <td>0</td>\n",
       "      <td>0</td>\n",
       "      <td>0</td>\n",
       "    </tr>\n",
       "    <tr>\n",
       "      <th>21568</th>\n",
       "      <td>fe620f55dbbd043b</td>\n",
       "      <td>the playground games continue...\\n\\nive posted this on the clairvoyance talk page after someone completely removed the clar#irsentience article which had gone through a process of months of work , rewrites , endless discussion , removasl of personal matereal , edits for style and content .... endless work on correct sourcing and wikpedia referencing and formatting.....  the article which had been arrived at with co operation and discussion over many weeks and v man who himself put some hours into grammer , punctuation ... re editting for stlye and content ... and much help in correct sourcing and referencing  ..... \\n\\nthis article was the sum  of many peoples input , effort and hard work  so i dont know how or who removed it so thoughtlessly and put the meaningless redirect to the clairvoyance page... any help would be great.... cheers..  \\n\\nhi guys\\n\\ni see youve redirected  the clairsentience article.... let me ask....what was the point of the weeks of discussions and rewrites if you guys were going to redirect it anyway....you should have told me t get lost out of here...... what was the point of it all?  why did i listen to you ? at all?  why did i remove all personal references?  why did i reference and source all of my matereal diligently and in great detail ?  why did i edit and re edit for style and content ?  why did i make additional references to religios , anthropological ,socialogical , philosophical ,medical , physics , chemistry , botany , mental health etc  so that all views were included and respected?  why did i fulfill all of the above hurdles and hoops to fulfill wikpedia formatting and guidlines for you too to delete months of hard work and effort.  your actions are without integrity or honour ..... \\n\\nclairsentience article redirect ?\\n\\nHi ..... whoever removed the clairsentience article and made it redirect ... can you please try and respect that the article that was there had evolved over a couple of months of discussion and many rewrites and multiple edits which involved much discussion over a long period......\\n.........i could delete this clairvoyance article.... but i wont because revert and delete wars then stupidly take place   which is a real shame when a library becomes a bar room brawl......\\n\\n..... i hope you can respect the clairsentience article...\\n\\n..... ive been clairsentient for most of my adult life and it wasnt easy to come this far and to struggle for  decades to articulate my experience in a way which makes rational sense to the world at large of which the clairsentience article is a manifest example..... so please try and respect the vast amount of struggle and work which has gone into it....</td>\n",
       "      <td>0.252828</td>\n",
       "      <td>0</td>\n",
       "      <td>0</td>\n",
       "      <td>0</td>\n",
       "      <td>0</td>\n",
       "      <td>0</td>\n",
       "      <td>0</td>\n",
       "    </tr>\n",
       "    <tr>\n",
       "      <th>2053</th>\n",
       "      <td>b117502cbc647666</td>\n",
       "      <td>\" \\n\\n == A few thoughts == \\n\\n Before even attempting to approach this subject, folks should consider a few things. \\n\\n * Where do bite statistics come from? As in, expert analysis and DNA testing or \"\"by gum officer, it wuz one a them pit bullys!\"\"? \\n\\n The CDC can collect \"\"statistics\"\" all day but if the underlying data is provided by uninformed, untrained \"\"eye witnesses\"\", it won't amount to a hill of beans. \\n\\n * Hysteria really does happen.  \\n\\n Look up \"\"satanic ritual abuse\"\" even here on Wikipedia. I remember when that flap came to my town. People totally up in arms about something for which there hasn't been a single shred of evidence. Lives were ruined, millions spent in cases such as the McMartin pre-school circus trial, and there simply was no \"\"there\"\" there.  \\n\\n Far as dogs go, I'm old enough to remember when The Big Scary Bad Dog That'll Eat Your Children was the German Shepard. Same stories, different breed. Everybody had \"\"statistics\"\" and \"\"he turned on me for no reason!\"\" stories. Then, for a while, it was the Rottweiler. And for a while, the Doberman had his turn. Notice, however, it's never the big, fluffy, pretty dogs with the big brown eyes (despite the fact that Chows tend to be exceedingly temperamental and I'd never own one again myself... I'll take a pit over a Chow any day). \\n\\n * Hysteria sells papers. \\n\\n \"\"There may be a killer in your home right now!\"\" \\n\\n \"\"Details at 11.\"\" \\n\\n Come on people, the boogeyman gets ratings and sells papers. Do you really expect to see (many) articles or TV news stories of... \\n\\n \"\"You probably shouldn't own a dog because you don't care enough to educate yourself on how to properly socialize and train a dog nor do you have the sense to realize dogs aren't stuffed animals.\"\" \\n\\n Yeah our media could bother to do some real education but it's more profitable to scare people into hiking their skirts and running around shrieking in terror (for details, see the current US administration). \\n\\n * Dogs don't get to testify in court. \\n\\n As in do you really believe a dog owner is going to tell the police, \"\"well, I was giving the dog his daily beating when, for no reason at all, he turned on me.\"\"? We have no way to verify the stories. I take all \"\"the dog turned on me for no reason\"\" stories with a grain of salt. At least until we have some way of getting the dog's side of the story.  \\n\\n * Temperament testing \\n\\n As in here. The ATTS gives the American Pit Bull Terrier a rating of 84.1%. The Golden Retriever obtains 83.8%. So where are all the stories of Golden Retrievers unexpectedly \"\"turning on\"\" their owners? Or assaulting people left and right? Why aren't they being banned?  \\n\\n Because they're pretty? \\n\\n The Cocker Spaniel obtains 81.7% but they're pretty too so they must not attack people. The Collie, 79.2%. In short, Lassie is more likely to attack you than a Pit.  \\n\\n * Sometimes the bias really is on the other side \\n\\n I see a lot of hand waving here about the bias of the article but nobody stops to consider that \"\"fair and balanced\"\" can be taken to such an extreme that it entails destroying the truth. Sometimes, people really are full of horse droppings and to try to \"\"balance\"\" reality is to do harm. And \"\"balance\"\" with what? Urban legend? Yellow journalism? Self-reported \"\"statistics\"\" that nobody bothers to verify?  \\n\\n * Your neighbor is a bigger risk to you than his dog \\n\\n Yes, I own pits. Both rescue dogs. One was abused by his first owner. And, frankly, I like my dogs better than I like most of you. My dogs don't get addicted to crack and try to break into someone's house unlike some neighbors I've had. \\n\\n Dogs aren't that complicated nor that hard to socialize and train if you bother to realize that they are actual living beings and not something to compliment the drapes. My Pits are loyal, affectionate, well behaved dogs. Even the one that had to be rescued from an abusive owner. That one took actual effort (heaven forbid... work!) to socialize after being traumatized by his first owner. Today, he's the most affectionate, playful, well behaved dogs I've ever owned. \\n\\n We don't have a \"\"breed specific\"\" problem, we have a human problem. As in stupid, small minded, ignorant people who want a dog as a toy or decoration. Such as my alcoholic, irresponsible, mooching off his mother, former neighbor that wanted a \"\"tough dog\"\" when he shouldn't have been allowed anywhere near a dog. Worse still, he has a kid. That'll turn out well. \\n\\n He was a classic example of the kind of person that was going to show up in the news one day saying, \"\"The dog turned on me for no reason.\"\" When the truth was, the dog would</td>\n",
       "      <td>0.255123</td>\n",
       "      <td>0</td>\n",
       "      <td>0</td>\n",
       "      <td>0</td>\n",
       "      <td>0</td>\n",
       "      <td>0</td>\n",
       "      <td>0</td>\n",
       "    </tr>\n",
       "    <tr>\n",
       "      <th>6904</th>\n",
       "      <td>e94272539b29dd70</td>\n",
       "      <td>hi guys\\n\\ni see youve redirected  the clairsentience article.... let me ask....what was the point of the weeks of discussions and rewrites if you guys were going to redirect it anyway....you should have told me t get lost out of here...... what was the point of it all?  why did i listen to you ? at all?  why did i remove all personal references?  why did i reference and source all of my matereal diligently and in great detail ?  why did i edit and re edit for style and content ?  why did i make additional references to religios , anthropological ,socialogical , philosophical ,medical , physics , chemistry , botany , mental health etc  so that all views were included and respected?  why did i fulfill all of the above hurdles and hoops to fulfill wikpedia formatting and guidlines for you too to delete months of hard work and effort.  your actions are without integrity or honour ..... \\n\\nclairsentience article redirect ?\\n\\nHi ..... whoever removed the clairsentience article and made it redirect ... can you please try and respect that the article that was there had evolved over a couple of months of discussion and many rewrites and multiple edits which involved much discussion over a long period......\\n.........i could delete this clairvoyance article.... but i wont because revert and delete wars then stupidly take place   which is a real shame when a library becomes a bar room brawl......\\n\\n..... i hope you can respect the clairsentience article...\\n\\n..... ive been clairsentient for most of my adult life and it wasnt easy to come this far and to struggle for  decades to articulate my experience in a way which makes rational sense to the world at large of which the clairsentience article is a manifest example..... so please try and respect the vast amount of struggle and work which has gone into it....</td>\n",
       "      <td>0.261437</td>\n",
       "      <td>0</td>\n",
       "      <td>0</td>\n",
       "      <td>0</td>\n",
       "      <td>0</td>\n",
       "      <td>0</td>\n",
       "      <td>0</td>\n",
       "    </tr>\n",
       "    <tr>\n",
       "      <th>...</th>\n",
       "      <td>...</td>\n",
       "      <td>...</td>\n",
       "      <td>...</td>\n",
       "      <td>...</td>\n",
       "      <td>...</td>\n",
       "      <td>...</td>\n",
       "      <td>...</td>\n",
       "      <td>...</td>\n",
       "      <td>...</td>\n",
       "    </tr>\n",
       "    <tr>\n",
       "      <th>23110</th>\n",
       "      <td>f67edd9c9473e8e1</td>\n",
       "      <td>Fuck you \\nfred fuck you you bitch ass punk u can suck a dick deleting everything fuck you ho go to hell you dumbass. your a bitch you stupid ass motherfucker. put a big stick in your mouth and leave.</td>\n",
       "      <td>0.993506</td>\n",
       "      <td>1</td>\n",
       "      <td>1</td>\n",
       "      <td>1</td>\n",
       "      <td>0</td>\n",
       "      <td>1</td>\n",
       "      <td>0</td>\n",
       "    </tr>\n",
       "    <tr>\n",
       "      <th>17349</th>\n",
       "      <td>3e1309cf82d7bdff</td>\n",
       "      <td>you are dumb \\n\\nyou are dumb and stupid loser</td>\n",
       "      <td>0.993684</td>\n",
       "      <td>1</td>\n",
       "      <td>0</td>\n",
       "      <td>0</td>\n",
       "      <td>0</td>\n",
       "      <td>1</td>\n",
       "      <td>0</td>\n",
       "    </tr>\n",
       "    <tr>\n",
       "      <th>15219</th>\n",
       "      <td>613f3490153d346e</td>\n",
       "      <td>Fuck you \\n\\nYou're a stupid bitch 142.162.85.154</td>\n",
       "      <td>0.994489</td>\n",
       "      <td>1</td>\n",
       "      <td>0</td>\n",
       "      <td>1</td>\n",
       "      <td>0</td>\n",
       "      <td>1</td>\n",
       "      <td>0</td>\n",
       "    </tr>\n",
       "    <tr>\n",
       "      <th>35749</th>\n",
       "      <td>b25c87ee437e7e51</td>\n",
       "      <td>why? \\n\\nfuck you you fucking whore.\\nyou stupid piece of shit.\\nyou are pathetic.\\nhow dare you delete that about my fucking mother\\ndo you not have a heart?!\\nyou fucking whore.</td>\n",
       "      <td>0.996048</td>\n",
       "      <td>1</td>\n",
       "      <td>1</td>\n",
       "      <td>1</td>\n",
       "      <td>0</td>\n",
       "      <td>1</td>\n",
       "      <td>0</td>\n",
       "    </tr>\n",
       "    <tr>\n",
       "      <th>28728</th>\n",
       "      <td>d82e45eb103ad07b</td>\n",
       "      <td>fuck off you stupid aspy asshole</td>\n",
       "      <td>0.997736</td>\n",
       "      <td>1</td>\n",
       "      <td>1</td>\n",
       "      <td>1</td>\n",
       "      <td>0</td>\n",
       "      <td>1</td>\n",
       "      <td>0</td>\n",
       "    </tr>\n",
       "  </tbody>\n",
       "</table>\n",
       "<p>479 rows × 9 columns</p>\n",
       "</div>"
      ],
      "text/plain": [
       "                     id  \\\n",
       "24315  f02c8ccaceec7d74   \n",
       "14614  6b8e902c4badc55c   \n",
       "21568  fe620f55dbbd043b   \n",
       "2053   b117502cbc647666   \n",
       "6904   e94272539b29dd70   \n",
       "...                 ...   \n",
       "23110  f67edd9c9473e8e1   \n",
       "17349  3e1309cf82d7bdff   \n",
       "15219  613f3490153d346e   \n",
       "35749  b25c87ee437e7e51   \n",
       "28728  d82e45eb103ad07b   \n",
       "\n",
       "                                                                                                                                                                                                                                                                                                                                                                                                                                                                                                                                                                                                                                                                                                                                                                                                                                                                                                                                                                                                                                                                                                                                                                                                                                                                                                                                                                                                                                                                                                                                                                                                                                                                                                                                                                                                                                                                                                                                                                                                                                                                                                                                                                                                                                                                                                                                                                                                                                                                                                                                                                                                                                                                                                                                                                                                                                                                                                                                                                                                                                                                                                                                                                                                                                                                                                                                                                                                                                                                                                                                                                                                                                                                                                                                                                                                                                                                                                                                                                                                                                                                                                                                                                                                                                                                                                                                                                                                                                                                                                                                                                                                                                                                                                                                                                                                                                                                                   comment_text  \\\n",
       "24315                                                                                                                                                                                                                                                                                                                                                                                                                                                                                                                                                                                                                                                                                                                                                                                                                                                                                                                                                                                                                           \"\\n\\nYour RFA\\n\\nI apologise, but I have closed your request for promotion early, as the application was certain to fail the basic requirements expected of applicants (NOTNOW), given the scarcity of experience, particularly in areas related to administration. If you remain interested in becoming an administrator, I would definitely recommend that you familiarise yourself with the guidelines on RFA applications (GRFA) before attempting the procedure again. Good luck! [[User talk:Mephistophelian| (contact)]] .\\nPlease explain\\nThis contribution of yours today contains cut and pasted copyrighted information from this  site, namely \"\"Brown joined the Pelicans in March of 2010 and under his leadership he helped transition the team’s Major League Baseball affiliation from the Atlanta Braves which they the club has been affiliated with since the club was started to the Texas Rangers following the 2010 season. The team hosted headline events like the NCAA Regional/Super Regionals in 2010 on behalf of Coastal Carolina University, the 2010 Carolina/California League All-Star Game and the first-ever exhibition game involving a big league team in Myrtle Beach when the reigning American League Champion Rangers took on the CCU Chanticleers on March 29, 2011.\"\" Apart from one word-change you have used the reference verbatim. Please fix, and read WP:COPYVIO   \\nPlease listen\\nYou accused me of vandalism in your summary of  this edit. Don't do that again.\\n\\nEarlier I had edited the Tom Rice article to improve it from a bloggy, pov, poorly written mishmash to a reasonably encyclopedic article (an ongoing task). I took it from this abomination to this.\\n\\nI have reverted you and suggest you don't revert me again. Instead, if you believe I am wrong you can report me elsewhere or ask for comment elsewhere.   \\n\\n ANI \\n\\nHello Sk8terguy27. There is currently a discussion at Wikipedia:Administrators' noticeboard/Incidents regarding an issue involving you. The thread has the subhead Could someone handle this please. Thank you.   \\n\\n Copyright issues report \\n\\nHi, I've mentioned the copyright problems here. Any help you can give in removing material that you know you've copy-pasted, and then noting that it's been removed, would be appreciated.  (talk) \\nI doubt anyone would want you to quit (I know I don't!), but it is very important that you respect copyrights.  IMHO, nothing is a bigger threat to the continued success of Wikipedia than copyvios.  The potential for the foundation to get sued is far bigger than it is for libel by far.  I have been screamed at, told off and generally put in my place dozens of time since I have been here and fully expect that I will again, many times.  It would be really nice if everyone here was kind and respectful, but, just like society in general, that just isn't the case.  My suggestion to you is to ask questions, get help when you need it, make friends and continue to work on articles you like.  The best thing I did after I got here was to get adopted.  There is no textbook for this, and adoption provides you with a teacher that will walk you through the ropes, and be around after you graduate to mentor you.  Another great thing here is the Teahouse.  It is a place especially for newer users to ask questions and get answers without attitude.  My dad always used to say that the only stupid question was the one you didn't ask, and the Teahouse definitively follows that credo.  I will leave you an invite after this message.  I will also be happy to help you in any way I can.  Just drop a note on my talk page.  Welcome to Wikipedia, and happy editing!   \\n Hi, Sk8terguy27. I have removed your recent addition to the article [[David   \n",
       "14614                                                                                                                                                                                                                                                                                                                                                                                                                                                                                                                                                                                                                                                                                                                                                                                                                                                                                                                                                                                                                              \"\\n\\n prep to update article - 2015 sources & citations \\n\\npeer reviewed\\n\\n Klein, Max, and Piotr Konieczn. \"\"Wikipedia in the World of Global Gender Inequality Indices.\"\" Proceedings of the 11th International Symposium on Open Collaboration - OpenSym '15 (2015): n. pag. Web. . While Wikipedia's editor gender gap is important but difficult to measure, its biographical gender gap can more readily be measured. We correlate a Wikipedia-derived gender inequality indicator (WIGI), with four widespread gender inequality indices in use today (GDI, GEI, GGGI, and SIGI). Analysing their methodologies and correlations to Wikipedia, we find evidence that Wikipedia's bias in biographical coverage is related to the gender bias in positions of social power.\\n\\nKalla, Joshua L., and Peter M. Aronow. \"\"Editorial Bias in Crowd-Sourced Political Information.\"\" PLOS ONE PLoS ONE 10.9 (2015): n. pag. Web. . In this paper, we examine what kinds of biases exist in crowd-sourced information on Wikipedia. Because any user can also be an editor, no one person with any particular ideological or partisan motivation should be able to control Wikipedia. Yet scholars have recognized the tension that comes from distributed, crowd-sourced platforms like Wikipedia. On the one hand, crowd-sourced information platforms create opportunities for citizens to challenge media-driven narratives. On the other, these platforms may be captured by the self-interested who have the greatest motivation to shape them for their own benefit.\\n\\nmass media\\n\\n Many hands make Wikipedia work. (2015, December 10). Sydney Morning Herald [Sydney, Australia], p. 20. Retrieved from http://go.galegroup.com.ezproxy.sfpl.org/ps/i.do?id=GALE%7CA436910759&sid;=summon&v;=2.1&u;=sfpl_main&it;=r&p;=STND&sw;=w&asid;=ec97e622b712616c8a2c1ff0dc58b220 We all use Wikipedia. It's hard to avoid. On just about any Google search, Wiki tops the list. Because it's also astoundingly comprehensive, intelligible and reliable, it has become the ubiquitous go-to start point. Yet almost the first research rule our kids learn is Wiki-denial. Read it if you must but, never, honey, never ever admit to it. ... So yes, Wikipedia is flawed. Above all, it needs more female input. But the obvious response, for you-and-me users who encounter something stupid or biased or just plain wrong, is to hop in there and fix it. I'll see you there, yes? Oh, and honey? Cite away!\\n\\n Wikipedia: A bias against women? (2014, Apr 13). The National Retrieved from http://ezproxy.sfpl.org/login?url=http://search.proquest.com/docview/1515588882?accountid=35117 Prof Bruckner's hope is that having systemic data on the extent and reasons behind bias could mobilise resources to deal with the issue. It might help, she suggests, if universities encouraged staff to become Wikipedia contributors, ensuring important academic work does not get ignored. They could, for example, expand the programmes some of them already run for academics on writing newspaper editorial columns - another area where female writers tend to be heavily outnumbered - to cover Wikipedia contributions. \"\"That is not something we usually do. We're scientists, we're not in the business of marketing our research. We have no training to do this,\"\" said Prof Bruckner. She admits she has never contributed to Wikipedia herself. The apparent bias could also be partly redressed by focusing on general initiatives to improve Wikipedia's quality. For Prof Bruckner, the Wikipedia project may also offer pointers about how the value of academic work in general is assessed. \"\"There is the gender issue, but also how people think about scholarship and what's reputable scholarship or not,\"\" she said.\"   \n",
       "21568                                                                                                                                                                                                                                                                                                                                                                                                                                                                                                                                                                                                                                                                                                                                                                                                                                                                                                                                                                                                                                                                                                                                                                                                                                                                                                                                                                                                                                                                                                                                                                                                                                                                                                                                                                                                                                                                                                                                                                                                                                                                                        the playground games continue...\\n\\nive posted this on the clairvoyance talk page after someone completely removed the clar#irsentience article which had gone through a process of months of work , rewrites , endless discussion , removasl of personal matereal , edits for style and content .... endless work on correct sourcing and wikpedia referencing and formatting.....  the article which had been arrived at with co operation and discussion over many weeks and v man who himself put some hours into grammer , punctuation ... re editting for stlye and content ... and much help in correct sourcing and referencing  ..... \\n\\nthis article was the sum  of many peoples input , effort and hard work  so i dont know how or who removed it so thoughtlessly and put the meaningless redirect to the clairvoyance page... any help would be great.... cheers..  \\n\\nhi guys\\n\\ni see youve redirected  the clairsentience article.... let me ask....what was the point of the weeks of discussions and rewrites if you guys were going to redirect it anyway....you should have told me t get lost out of here...... what was the point of it all?  why did i listen to you ? at all?  why did i remove all personal references?  why did i reference and source all of my matereal diligently and in great detail ?  why did i edit and re edit for style and content ?  why did i make additional references to religios , anthropological ,socialogical , philosophical ,medical , physics , chemistry , botany , mental health etc  so that all views were included and respected?  why did i fulfill all of the above hurdles and hoops to fulfill wikpedia formatting and guidlines for you too to delete months of hard work and effort.  your actions are without integrity or honour ..... \\n\\nclairsentience article redirect ?\\n\\nHi ..... whoever removed the clairsentience article and made it redirect ... can you please try and respect that the article that was there had evolved over a couple of months of discussion and many rewrites and multiple edits which involved much discussion over a long period......\\n.........i could delete this clairvoyance article.... but i wont because revert and delete wars then stupidly take place   which is a real shame when a library becomes a bar room brawl......\\n\\n..... i hope you can respect the clairsentience article...\\n\\n..... ive been clairsentient for most of my adult life and it wasnt easy to come this far and to struggle for  decades to articulate my experience in a way which makes rational sense to the world at large of which the clairsentience article is a manifest example..... so please try and respect the vast amount of struggle and work which has gone into it....   \n",
       "2053   \" \\n\\n == A few thoughts == \\n\\n Before even attempting to approach this subject, folks should consider a few things. \\n\\n * Where do bite statistics come from? As in, expert analysis and DNA testing or \"\"by gum officer, it wuz one a them pit bullys!\"\"? \\n\\n The CDC can collect \"\"statistics\"\" all day but if the underlying data is provided by uninformed, untrained \"\"eye witnesses\"\", it won't amount to a hill of beans. \\n\\n * Hysteria really does happen.  \\n\\n Look up \"\"satanic ritual abuse\"\" even here on Wikipedia. I remember when that flap came to my town. People totally up in arms about something for which there hasn't been a single shred of evidence. Lives were ruined, millions spent in cases such as the McMartin pre-school circus trial, and there simply was no \"\"there\"\" there.  \\n\\n Far as dogs go, I'm old enough to remember when The Big Scary Bad Dog That'll Eat Your Children was the German Shepard. Same stories, different breed. Everybody had \"\"statistics\"\" and \"\"he turned on me for no reason!\"\" stories. Then, for a while, it was the Rottweiler. And for a while, the Doberman had his turn. Notice, however, it's never the big, fluffy, pretty dogs with the big brown eyes (despite the fact that Chows tend to be exceedingly temperamental and I'd never own one again myself... I'll take a pit over a Chow any day). \\n\\n * Hysteria sells papers. \\n\\n \"\"There may be a killer in your home right now!\"\" \\n\\n \"\"Details at 11.\"\" \\n\\n Come on people, the boogeyman gets ratings and sells papers. Do you really expect to see (many) articles or TV news stories of... \\n\\n \"\"You probably shouldn't own a dog because you don't care enough to educate yourself on how to properly socialize and train a dog nor do you have the sense to realize dogs aren't stuffed animals.\"\" \\n\\n Yeah our media could bother to do some real education but it's more profitable to scare people into hiking their skirts and running around shrieking in terror (for details, see the current US administration). \\n\\n * Dogs don't get to testify in court. \\n\\n As in do you really believe a dog owner is going to tell the police, \"\"well, I was giving the dog his daily beating when, for no reason at all, he turned on me.\"\"? We have no way to verify the stories. I take all \"\"the dog turned on me for no reason\"\" stories with a grain of salt. At least until we have some way of getting the dog's side of the story.  \\n\\n * Temperament testing \\n\\n As in here. The ATTS gives the American Pit Bull Terrier a rating of 84.1%. The Golden Retriever obtains 83.8%. So where are all the stories of Golden Retrievers unexpectedly \"\"turning on\"\" their owners? Or assaulting people left and right? Why aren't they being banned?  \\n\\n Because they're pretty? \\n\\n The Cocker Spaniel obtains 81.7% but they're pretty too so they must not attack people. The Collie, 79.2%. In short, Lassie is more likely to attack you than a Pit.  \\n\\n * Sometimes the bias really is on the other side \\n\\n I see a lot of hand waving here about the bias of the article but nobody stops to consider that \"\"fair and balanced\"\" can be taken to such an extreme that it entails destroying the truth. Sometimes, people really are full of horse droppings and to try to \"\"balance\"\" reality is to do harm. And \"\"balance\"\" with what? Urban legend? Yellow journalism? Self-reported \"\"statistics\"\" that nobody bothers to verify?  \\n\\n * Your neighbor is a bigger risk to you than his dog \\n\\n Yes, I own pits. Both rescue dogs. One was abused by his first owner. And, frankly, I like my dogs better than I like most of you. My dogs don't get addicted to crack and try to break into someone's house unlike some neighbors I've had. \\n\\n Dogs aren't that complicated nor that hard to socialize and train if you bother to realize that they are actual living beings and not something to compliment the drapes. My Pits are loyal, affectionate, well behaved dogs. Even the one that had to be rescued from an abusive owner. That one took actual effort (heaven forbid... work!) to socialize after being traumatized by his first owner. Today, he's the most affectionate, playful, well behaved dogs I've ever owned. \\n\\n We don't have a \"\"breed specific\"\" problem, we have a human problem. As in stupid, small minded, ignorant people who want a dog as a toy or decoration. Such as my alcoholic, irresponsible, mooching off his mother, former neighbor that wanted a \"\"tough dog\"\" when he shouldn't have been allowed anywhere near a dog. Worse still, he has a kid. That'll turn out well. \\n\\n He was a classic example of the kind of person that was going to show up in the news one day saying, \"\"The dog turned on me for no reason.\"\" When the truth was, the dog would   \n",
       "6904                                                                                                                                                                                                                                                                                                                                                                                                                                                                                                                                                                                                                                                                                                                                                                                                                                                                                                                                                                                                                                                                                                                                                                                                                                                                                                                                                                                                                                                                                                                                                                                                                                                                                                                                                                                                                                                                                                                                                                                                                                                                                                                                                                                                                                                                                                                                                                                                                                                                                                                                                                                                                                                                                                                                                                                                                                                                                                                                                                                 hi guys\\n\\ni see youve redirected  the clairsentience article.... let me ask....what was the point of the weeks of discussions and rewrites if you guys were going to redirect it anyway....you should have told me t get lost out of here...... what was the point of it all?  why did i listen to you ? at all?  why did i remove all personal references?  why did i reference and source all of my matereal diligently and in great detail ?  why did i edit and re edit for style and content ?  why did i make additional references to religios , anthropological ,socialogical , philosophical ,medical , physics , chemistry , botany , mental health etc  so that all views were included and respected?  why did i fulfill all of the above hurdles and hoops to fulfill wikpedia formatting and guidlines for you too to delete months of hard work and effort.  your actions are without integrity or honour ..... \\n\\nclairsentience article redirect ?\\n\\nHi ..... whoever removed the clairsentience article and made it redirect ... can you please try and respect that the article that was there had evolved over a couple of months of discussion and many rewrites and multiple edits which involved much discussion over a long period......\\n.........i could delete this clairvoyance article.... but i wont because revert and delete wars then stupidly take place   which is a real shame when a library becomes a bar room brawl......\\n\\n..... i hope you can respect the clairsentience article...\\n\\n..... ive been clairsentient for most of my adult life and it wasnt easy to come this far and to struggle for  decades to articulate my experience in a way which makes rational sense to the world at large of which the clairsentience article is a manifest example..... so please try and respect the vast amount of struggle and work which has gone into it....   \n",
       "...                                                                                                                                                                                                                                                                                                                                                                                                                                                                                                                                                                                                                                                                                                                                                                                                                                                                                                                                                                                                                                                                                                                                                                                                                                                                                                                                                                                                                                                                                                                                                                                                                                                                                                                                                                                                                                                                                                                                                                                                                                                                                                                                                                                                                                                                                                                                                                                                                                                                                                                                                                                                                                                                                                                                                                                                                                                                                                                                                                                                                                                                                                                                                                                                                                                                                                                                                                                                                                                                                                                                                                                                                                                                                                                                                                                                                                                                                                                                                                                                                                                                                                                                                                                                                                                                                                                                                                                                                                                                                                                                                                                                                                                                                                                                                                                                                                                                                         ...   \n",
       "23110                                                                                                                                                                                                                                                                                                                                                                                                                                                                                                                                                                                                                                                                                                                                                                                                                                                                                                                                                                                                                                                                                                                                                                                                                                                                                                                                                                                                                                                                                                                                                                                                                                                                                                                                                                                                                                                                                                                                                                                                                                                                                                                                                                                                                                                                                                                                                                                                                                                                                                                                                                                                                                                                                                                                                                                                                                                                                                                                                                                                                                                                                                                                                                                                                                                                                                                                                                                                                                                                                                                                                                                                                                                                                                                                                                                                                                                                                                                                                                                                                                                                                                                                                                                                                                                                                                                                                                                                                                                                                                                                                                                                                                                                                  Fuck you \\nfred fuck you you bitch ass punk u can suck a dick deleting everything fuck you ho go to hell you dumbass. your a bitch you stupid ass motherfucker. put a big stick in your mouth and leave.   \n",
       "17349                                                                                                                                                                                                                                                                                                                                                                                                                                                                                                                                                                                                                                                                                                                                                                                                                                                                                                                                                                                                                                                                                                                                                                                                                                                                                                                                                                                                                                                                                                                                                                                                                                                                                                                                                                                                                                                                                                                                                                                                                                                                                                                                                                                                                                                                                                                                                                                                                                                                                                                                                                                                                                                                                                                                                                                                                                                                                                                                                                                                                                                                                                                                                                                                                                                                                                                                                                                                                                                                                                                                                                                                                                                                                                                                                                                                                                                                                                                                                                                                                                                                                                                                                                                                                                                                                                                                                                                                                                                                                                                                                                                                                                                                                                                                                                                                                                            you are dumb \\n\\nyou are dumb and stupid loser   \n",
       "15219                                                                                                                                                                                                                                                                                                                                                                                                                                                                                                                                                                                                                                                                                                                                                                                                                                                                                                                                                                                                                                                                                                                                                                                                                                                                                                                                                                                                                                                                                                                                                                                                                                                                                                                                                                                                                                                                                                                                                                                                                                                                                                                                                                                                                                                                                                                                                                                                                                                                                                                                                                                                                                                                                                                                                                                                                                                                                                                                                                                                                                                                                                                                                                                                                                                                                                                                                                                                                                                                                                                                                                                                                                                                                                                                                                                                                                                                                                                                                                                                                                                                                                                                                                                                                                                                                                                                                                                                                                                                                                                                                                                                                                                                                                                                                                                                                                         Fuck you \\n\\nYou're a stupid bitch 142.162.85.154   \n",
       "35749                                                                                                                                                                                                                                                                                                                                                                                                                                                                                                                                                                                                                                                                                                                                                                                                                                                                                                                                                                                                                                                                                                                                                                                                                                                                                                                                                                                                                                                                                                                                                                                                                                                                                                                                                                                                                                                                                                                                                                                                                                                                                                                                                                                                                                                                                                                                                                                                                                                                                                                                                                                                                                                                                                                                                                                                                                                                                                                                                                                                                                                                                                                                                                                                                                                                                                                                                                                                                                                                                                                                                                                                                                                                                                                                                                                                                                                                                                                                                                                                                                                                                                                                                                                                                                                                                                                                                                                                                                                                                                                                                                                                                                                                                                       why? \\n\\nfuck you you fucking whore.\\nyou stupid piece of shit.\\nyou are pathetic.\\nhow dare you delete that about my fucking mother\\ndo you not have a heart?!\\nyou fucking whore.   \n",
       "28728                                                                                                                                                                                                                                                                                                                                                                                                                                                                                                                                                                                                                                                                                                                                                                                                                                                                                                                                                                                                                                                                                                                                                                                                                                                                                                                                                                                                                                                                                                                                                                                                                                                                                                                                                                                                                                                                                                                                                                                                                                                                                                                                                                                                                                                                                                                                                                                                                                                                                                                                                                                                                                                                                                                                                                                                                                                                                                                                                                                                                                                                                                                                                                                                                                                                                                                                                                                                                                                                                                                                                                                                                                                                                                                                                                                                                                                                                                                                                                                                                                                                                                                                                                                                                                                                                                                                                                                                                                                                                                                                                                                                                                                                                                                                                                                                                                                          fuck off you stupid aspy asshole   \n",
       "\n",
       "          score  toxic  severe_toxic  obscene  threat  insult  identity_hate  \n",
       "24315  0.153055      0             0        0       0       0              0  \n",
       "14614  0.242506      0             0        0       0       0              0  \n",
       "21568  0.252828      0             0        0       0       0              0  \n",
       "2053   0.255123      0             0        0       0       0              0  \n",
       "6904   0.261437      0             0        0       0       0              0  \n",
       "...         ...    ...           ...      ...     ...     ...            ...  \n",
       "23110  0.993506      1             1        1       0       1              0  \n",
       "17349  0.993684      1             0        0       0       1              0  \n",
       "15219  0.994489      1             0        1       0       1              0  \n",
       "35749  0.996048      1             1        1       0       1              0  \n",
       "28728  0.997736      1             1        1       0       1              0  \n",
       "\n",
       "[479 rows x 9 columns]"
      ]
     },
     "execution_count": 10,
     "metadata": {},
     "output_type": "execute_result"
    }
   ],
   "source": [
    "pd.set_option('display.max_colwidth', None)\n",
    "df[df['comment_text'].str.contains(\"stupid\")].sort_values(['score'])"
   ]
  },
  {
   "cell_type": "code",
   "execution_count": 11,
   "metadata": {},
   "outputs": [
    {
     "data": {
      "text/html": [
       "<div>\n",
       "<style scoped>\n",
       "    .dataframe tbody tr th:only-of-type {\n",
       "        vertical-align: middle;\n",
       "    }\n",
       "\n",
       "    .dataframe tbody tr th {\n",
       "        vertical-align: top;\n",
       "    }\n",
       "\n",
       "    .dataframe thead th {\n",
       "        text-align: right;\n",
       "    }\n",
       "</style>\n",
       "<table border=\"1\" class=\"dataframe\">\n",
       "  <thead>\n",
       "    <tr style=\"text-align: right;\">\n",
       "      <th></th>\n",
       "      <th>id</th>\n",
       "      <th>comment_text</th>\n",
       "      <th>score</th>\n",
       "      <th>toxic</th>\n",
       "      <th>severe_toxic</th>\n",
       "      <th>obscene</th>\n",
       "      <th>threat</th>\n",
       "      <th>insult</th>\n",
       "      <th>identity_hate</th>\n",
       "    </tr>\n",
       "  </thead>\n",
       "  <tbody>\n",
       "    <tr>\n",
       "      <th>23460</th>\n",
       "      <td>f48a56d1ba31d479</td>\n",
       "      <td>Yeah mate I can see where you're coming from but this is the Marc Hughes you're getting confused about, it says his last club was Tolka Rovers but I know for a fact it's Cherry Orchard here in Ireland. I follow League of Ireland and I know the Mark Hughes that signed for scuthorpe United, he was a promising midfielder (not a striker) here and went on trial with Scunthorpe while they were in Ireland on their pre season tour of the country. The 19 year old Mark Hughes was at a few youth clubs in Ireland but for some reason never made a first team apperance with any League of Ireland club. Its hard to believe without making a first team app here in Ireland he got a contract in UK. There must have been a agent involved in getting him across the water.</td>\n",
       "      <td>0.079162</td>\n",
       "      <td>0</td>\n",
       "      <td>0</td>\n",
       "      <td>0</td>\n",
       "      <td>0</td>\n",
       "      <td>0</td>\n",
       "      <td>0</td>\n",
       "    </tr>\n",
       "    <tr>\n",
       "      <th>18467</th>\n",
       "      <td>2bf91b28723a4126</td>\n",
       "      <td>\"\\n\\nAs I explained in an edit summary this sentence attempts to summarise the information in mephedrone#UK. 'People have died after taking mephedrone' is intended to summarise \"\"mephedrone had been alleged to be involved in 52 fatalities in the UK, but detected in only 38 of these cases\"\". Likewise 'some deaths the media attributed to the drug were later determined to have been caused by other factors' is summarising \"\"The death of a teenager in the UK in November 2009 was widely reported as being caused by mephedrone, but a report by the coroner concluded she had died from natural causes. In March 2010, the deaths of two teenagers in Scunthorpe were widely reported by the media to be caused by mephedrone. Toxicology reports showed the teenagers had not taken any mephedrone and had died as a result of consuming alcohol and the heroin substitute methadone\"\". Both parts are important and should be mentioned in the lead and if you read the references you should realise that this is exceptional to mephedrone as deaths were over-reported and mis-reported by the media - comparisons with other topics are irrelevant. I agree that it is a bit weasely, but how else to you suggest that that section is summarised? WP:LEADCITE is very vague about whether citations are required and when I wrote the lead I erred on making it easier to read rather than ensuring that every fact was supported by a citation there (Wikipedia:Citation_overkill). I could easily copy the references from the main article to the lead for this sentence, but then someone will likely come along and complain that other sentences don't have citations... IMO this is a waste of time when readers could just find the relevant citations in the main body of the article.   \"</td>\n",
       "      <td>0.110376</td>\n",
       "      <td>0</td>\n",
       "      <td>0</td>\n",
       "      <td>0</td>\n",
       "      <td>0</td>\n",
       "      <td>0</td>\n",
       "      <td>0</td>\n",
       "    </tr>\n",
       "    <tr>\n",
       "      <th>10614</th>\n",
       "      <td>ada843be122b0d6d</td>\n",
       "      <td>Hi again Antandrus.  I agree with your point two, of course - I mean that sincerely.  My problem is that I've been editing anonymously for a while, I really don't know how long, and time was that I didn't have any problems with people randomly and arbitrarily undoing my work.  At some point this began to happen.  It is incredibly offensive.  In fact, to me, it is much more offensive than if someone called me a cunt.  The first time, I assumed it was an isolated incident, but then it happened again... and again... and again.  At least 10 times, and perhaps 20 times or more, my edits have been reverted, often with no explanation, and sometimes with accusations of vandalism.  It's been many months since the first time.  And whether you take a polite tone, or you just mouth off at everyone, the end result is exactly the same.  I have seen probably three or maybe four editors, yourself included, who have taken what I thought was the obvious view that you shouldn't arbitrarily revert IP edits, and I have seen at least ten times as many editors who revert arbitrarily, and plenty who invent post-hoc justifications for their actions.\\nThese arbitrary reverts are a real slap in the face.  I get more satisfaction out of responding viciously than I would out of responding politely, and the end result is exactly the same.  It's very, very depressing to see how reasonable, sensible people like yourself became the minority.  Believe me, if you were the majority, I would not be viciously slagging off anyone.\\nMy IP will change at some point, I don't force it to but it does.  I have no respect for the blocks that result from me being accused of vandalism, so I ignore them.  And I keep on trying to improve articles, and eventually, the same will happen.  So be it.  190.45.54.212</td>\n",
       "      <td>0.525852</td>\n",
       "      <td>0</td>\n",
       "      <td>0</td>\n",
       "      <td>0</td>\n",
       "      <td>0</td>\n",
       "      <td>0</td>\n",
       "      <td>0</td>\n",
       "    </tr>\n",
       "    <tr>\n",
       "      <th>33452</th>\n",
       "      <td>beee263a92495f20</td>\n",
       "      <td>\"\\n\\n Comment \\n\\nMy comments on Malleus' talk page were well beyond civil, even for a user talk page. They were a personal attack, and warranted serious sanction. \\n\\nFor the record, it was a simple spontaneous eruption of contempt mingled with rage. Some have muttered that I went to his page to harass him; that's not the case. I went to continue a discussion that had been interrupted by earlier admin action. Some are muttering that I went there to \"\"bait\"\" or \"\"poke\"\" him into a block. I appreciate the complement but my Machiavellian intelligence is non-existant. Obviously. \\n\\nI lost respect for Malleus when he said, \"\"You already succeeded in getting me blocked, so I can only presume that you're trying to repeat the trick.\"\" I had made it clear that I had no intention of getting him blocked, he knew it, and yet regurgitated this populist slur. That's where he opened the door for my unmitigated opinion.\\n\\nBut my rant wasn't aimed at the dishonesty I perceived in that comment, that simply gave me permission to express a much deeper revulsion that's been building in me over the last few months with respect to this project. \\n\\nIt's a feeling, so I'm not sure I can make it clear. A kind of nauseous disgust. It's to do with how we deal with the hurt we may cause others, other editors, our subjects and our readers. I'm pleased to see the faltering steps being taken toward a more civil ethos here. Those who actually know me know that means a great deal to me. There is a long way to go. Pesky pointed out that finding the right form of words for what's required is difficult. I agree. That's the challenge. The right form of words will emerge if we discuss these questions enough.\\n\\nWith regard to respectful discourse between editors, Malleus has been addressing the real root of the civility problem here for years. Telling someone to fuck off, or calling them a cunt is obviously uncivil and an easy call for an admin. But the real evil here is not Malleus and me calling each other names, it's the sleazy aside from one editor to another, undermining the reputation of a third. One editor can bully or badger another for days or weeks without ever calling them a name, and it's their victim that cops a block when they respond accordingly. So I'm glad to see more admins taking civility seriously, but you're going to have to work on the sophistication of your approach.\\n\\nI'm disgusted by the way this project treats its readers with regard to controversial images. The bit that disgusts me is the mantra that \"\"we don't care if we offend our readers.\"\" Seriously. That has been repeated ad nauseam during the Muhammad images debates and others. I can see no excuse for that attitude, and don't want to participate in an enterprise that has that attitude towards its readership.\\n\\nAnd finally, contempt for our subjects. I first noticed this on a BLP. A teenage girl and her boyfriend made a sex tape. Later, when she was a minor local celebrity, the tape was posted on the net, without her permission. It's there now; Google her name and \"\"sex tape\"\" and you got it. She's now won a TV competition, so is becoming better known.\\n\\nThe tape's existence has been mentioned a few times in the press, but not much, and usually the \"\"nudge, nudge, lucky bastard\"\" type of comment, but it doesn't seem to have affected her career or even her private life. An RfC asked \"\"Should we mention the tape?\"\" Policy-wise you can make a case for its inclusion, but it's borderline. What really disgusted me was the utter unconcern of many editors for the effect our inclusion of the factoid would have on the visibility of the tape, and the consequent effect this would have on the woman. I won't elaborate further; you either get it or you don't.\\n\\nAnd it was concern for the subject of a BLP that brought Malleus and me together. He was arguing for the preservation of a borderline notable BLP that the subject said was distressing him. I argued that it should go, simply because it's borderline notable and the subject doesn't want it. \\n\\nAlthough Malleus asserted the wishes of the subject are irrelevant, an assertion he is incapable of justifying, and a position I find morally repugnant, he deemed it appropriate to also declare the subject's claim of distress is implausible. Unfortunately, Jimbo had already primed me with a similar judgment. Jimbo had ignored my response, so I thought I'd add a little emphasis when I explained my view to Malleus.\\n\\nI've suffered chronic pain and fatigue since I had an unnecessary medical intervention at the a</td>\n",
       "      <td>0.636407</td>\n",
       "      <td>0</td>\n",
       "      <td>0</td>\n",
       "      <td>0</td>\n",
       "      <td>0</td>\n",
       "      <td>0</td>\n",
       "      <td>0</td>\n",
       "    </tr>\n",
       "    <tr>\n",
       "      <th>12123</th>\n",
       "      <td>944f53d01eda279c</td>\n",
       "      <td>\"\\n\\nLiz Jones (born 5 September 1958Anne, I was born in 1958 - and lying about it is my Weakest Link Mail on Sunday, 24 May 2008) is an English journalist and writer. Born in Essex, EnglanLiz Jones' hairy old cuntLiz Jones' hairy old cuntLiz Jones' hairy old cuntLiz Jones' hairy old cuntLiz Jones' hairy old cuntLiz Jones' hairy old cuntLiz Jones' hairy old cuntLiz Jones' hairy old cuntLiz Jones' hairy old cuntLiz Jones' hairy old cuntLiz Jones' hairy old cuntLiz Jones' hairy old cuntLiz Jones' hairy old cuntLiz Jones' hairy old cuntLiz Jones' hairy old cuntLiz Jones' hairy old cuntLiz Jones' hairy old cuntLiz Jones' hairy old cuntLiz Jones' hairy old cuntLiz Jones' hairy old cuntLiz Jones' hairy old cuntLiz Jones' hairy old cuntLiz Jones' hairy old cuntLiz Jones' hairy old cuntLiz Jones' hairy old cuntLiz Jones' hairy old cuntLiz Jones' hairy old cuntLiz Jones' hairy old cuntLiz Jones' hairy old cuntLiz Jones' hairy old cuntLiz Jones' hairy old cuntLiz Jones' hairy old cuntLiz Jones' hairy old cuntLiz Jones' hairy old cuntLiz Jones' hairy old cuntLiz Jones' hairy old cuntLiz Jones' hairy old cuntLiz Jones' hairy old cuntLiz Jones' hairy old cuntLiz Jones' hairy old cuntLiz Jones' hairy old cuntLiz Jones' hairy old cuntLiz Jones' hairy old cuntLiz Jones' hairy old cuntLiz Jones' hairy old cuntLiz Jones' hairy old cuntLiz Jones' hairy old cuntLiz Jones' hairy old cuntLiz Jones' hairy old cuntLiz Jones' hairy old cuntLiz Jones' hairy old cuntLiz Jones' hairy old cuntLiz Jones' hairy old cuntLiz Jones' hairy old cuntLiz Jones' hairy old cuntLiz Jones' hairy old cuntLiz Jones' hairy old cuntLiz Jones' hairy old cuntLiz Jones' hairy old cuntLiz Jones' hairy old cuntLiz Jones' hairy old cuntLiz Jones' hairy old cuntLiz Jones' hairy old cuntLiz Jones' hairy old cuntLiz Jones' hairy old cuntLiz Jones' hairy old cuntLiz Jones' hairy old cuntLiz Jones' hairy old cuntLiz Jones' hairy old cuntLiz Jones' hairy old cuntLiz Jones' hairy old cuntLiz Jones' hairy old cuntLiz Jones' hairy old cuntLiz Jones' hairy old cuntLiz Jones' hairy old cuntLiz Jones' hairy old cuntLiz Jones' hairy old cuntLiz Jones' hairy old cuntLiz Jones' hairy old cuntLiz Jones' hairy old cuntLiz Jones' hairy old cuntLiz Jones' hairy old cuntLiz Jones' hairy old cuntLiz Jones' hairy old cuntLiz Jones' hairy old cuntLiz Jones' hairy old cuntLiz Jones' hairy old cuntLiz Jones' hairy old cuntLiz Jones' hairy old cuntLiz Jones' hairy old cuntLiz Jones' hairy old cuntLiz Jones' hairy old cuntLiz Jones' hairy old cuntLiz Jones' hairy old cuntLiz Jones' hairy old cuntLiz Jones' hairy old cuntLiz Jones' hairy old cuntLiz Jones' hairy old cuntLiz Jones' hairy old cuntLiz Jones' hairy old cuntLiz Jones' hairy old cuntLiz Jones' hairy old cuntLiz Jones' hairy old cuntLiz Jones' hairy old cuntLiz Jones' hairy old cuntLiz Jones' hairy old cuntLiz Jones' hairy old cuntLiz Jones' hairy old cuntLiz Jones' hairy old cuntLiz Jones' hairy old cuntLiz Jones' hairy old cuntLiz Jones' hairy old cuntd to Robert (died 1998) and Edna Jones, she is the youngest of seven children. She attended Brentwood County High School for girls. She currently writes columns for the Daily Mail and the Mail on Sunday. She was previously the editor of British Marie Claire), and has also been an editor at the Evening Standard.Rachel Cooke \"\"Enough about me\"\", The Observer, 2 August 2009, accessed 9 August 2009. \\n\\nJones now lives in Brushford, just south of Dulverton, Somerset with rescued horses and other animals, as she recounts in The Exmoor Files.Liz Jones \"\"The horse that helped me rediscover happiness and saved my life\"\" Daily Mail (Femail) 25 July 2009, accessed 9 August 2009\\n\\nBibliography\\n Bright Wings Broken (1996) ISBN 1-896-32995-0\\n Slave To The Rhythm: The Artist Formerly Known As Prince (1997) ISBN 0-316-64041-7\\n Liz Jones's Diary: How One Single Girl Got Married (2005) ISBN 1-844-00223-3\\n Fur Babies: Why We Love Cats (2007) ISBN 1-844-00518-6\\n The Exmoor Files: How I Lost A Husband And Found Rural Bliss (2009) ISBN 0-297-85443-7\\n The Exmoor Files: How I Lost A Husband And Nearly Found Rural Bliss (2010)  ISBN 0753827085 (revised and updated)\\n\\nReferences\\n\\n External links \\n Liz Jones from the Mail Online.\\n\\n{{Persondata NEWLI</td>\n",
       "      <td>0.669760</td>\n",
       "      <td>1</td>\n",
       "      <td>0</td>\n",
       "      <td>0</td>\n",
       "      <td>0</td>\n",
       "      <td>0</td>\n",
       "      <td>0</td>\n",
       "    </tr>\n",
       "    <tr>\n",
       "      <th>...</th>\n",
       "      <td>...</td>\n",
       "      <td>...</td>\n",
       "      <td>...</td>\n",
       "      <td>...</td>\n",
       "      <td>...</td>\n",
       "      <td>...</td>\n",
       "      <td>...</td>\n",
       "      <td>...</td>\n",
       "      <td>...</td>\n",
       "    </tr>\n",
       "    <tr>\n",
       "      <th>28333</th>\n",
       "      <td>da688040f255866b</td>\n",
       "      <td>Fuck you. Stupid cunt.  Stay in the kitchen where you belong.</td>\n",
       "      <td>0.992595</td>\n",
       "      <td>1</td>\n",
       "      <td>1</td>\n",
       "      <td>1</td>\n",
       "      <td>0</td>\n",
       "      <td>1</td>\n",
       "      <td>0</td>\n",
       "    </tr>\n",
       "    <tr>\n",
       "      <th>32211</th>\n",
       "      <td>c59e19584747453a</td>\n",
       "      <td>Twat \\n\\nYou're a fucking cunt</td>\n",
       "      <td>0.993431</td>\n",
       "      <td>1</td>\n",
       "      <td>0</td>\n",
       "      <td>1</td>\n",
       "      <td>0</td>\n",
       "      <td>1</td>\n",
       "      <td>0</td>\n",
       "    </tr>\n",
       "    <tr>\n",
       "      <th>15413</th>\n",
       "      <td>5e4fb1710d0f1493</td>\n",
       "      <td>your moms yummy cunt \\n\\nFucking Bastard\\nyou son of a bitch, asshole, motherfucker, go fuck ur mothers cunt, trade ur wife sister</td>\n",
       "      <td>0.993966</td>\n",
       "      <td>1</td>\n",
       "      <td>1</td>\n",
       "      <td>1</td>\n",
       "      <td>0</td>\n",
       "      <td>1</td>\n",
       "      <td>0</td>\n",
       "    </tr>\n",
       "    <tr>\n",
       "      <th>26158</th>\n",
       "      <td>e62f588c0c7cb494</td>\n",
       "      <td>mother fucking cunt bitch</td>\n",
       "      <td>0.994263</td>\n",
       "      <td>1</td>\n",
       "      <td>1</td>\n",
       "      <td>1</td>\n",
       "      <td>0</td>\n",
       "      <td>1</td>\n",
       "      <td>0</td>\n",
       "    </tr>\n",
       "    <tr>\n",
       "      <th>27643</th>\n",
       "      <td>de36b31e15959013</td>\n",
       "      <td>\"\\n\\n Suck my cunt \\n\\nyou bastard!\"\"\"</td>\n",
       "      <td>0.994657</td>\n",
       "      <td>1</td>\n",
       "      <td>0</td>\n",
       "      <td>1</td>\n",
       "      <td>0</td>\n",
       "      <td>1</td>\n",
       "      <td>0</td>\n",
       "    </tr>\n",
       "  </tbody>\n",
       "</table>\n",
       "<p>118 rows × 9 columns</p>\n",
       "</div>"
      ],
      "text/plain": [
       "                     id  \\\n",
       "23460  f48a56d1ba31d479   \n",
       "18467  2bf91b28723a4126   \n",
       "10614  ada843be122b0d6d   \n",
       "33452  beee263a92495f20   \n",
       "12123  944f53d01eda279c   \n",
       "...                 ...   \n",
       "28333  da688040f255866b   \n",
       "32211  c59e19584747453a   \n",
       "15413  5e4fb1710d0f1493   \n",
       "26158  e62f588c0c7cb494   \n",
       "27643  de36b31e15959013   \n",
       "\n",
       "                                                                                                                                                                                                                                                                                                                                                                                                                                                                                                                                                                                                                                                                                                                                                                                                                                                                                                                                                                                                                                                                                                                                                                                                                                                                                                                                                                                                                                                                                                                                                                                                                                                                                                                                                                                                                                                                                                                                                                                                                                                                                                                                                                                                                                                                                                                                                                                                                                                                                                                                                                                                                                                                                                                                                                                                                                                                                                                                                                                                                                                                                                                                                                                                                                                                                                                                                                                                                                                                                                                                                                                                                                                                                                                                                                                                                                                                                                                                                                                                                                                                                                                                                                                                                                                                                                                                                                                                                                                                                                                                                                                                                                                                                                                                                          comment_text  \\\n",
       "23460                                                                                                                                                                                                                                                                                                                                                                                                                                                                                                                                                                                                                                                                                                                                                                                                                                                                                                                                                                                                                                                                                                                                                                                                                                                                                                                                                                                                                                                                                                                                                                                                                                                                                                                                                                                                                                                                                                                                                                                                                                                                                                                                                                                                                                                                                                                                                                                                                                                                                                                                                                                                                                                                                                                                                                                                                                                                                                                                                                                                                                                                                                                                                                                                                                                                                                                                                                                                                                                                                                                                                                                                                                                                                                                                                                                                                                                                                                                                                                            Yeah mate I can see where you're coming from but this is the Marc Hughes you're getting confused about, it says his last club was Tolka Rovers but I know for a fact it's Cherry Orchard here in Ireland. I follow League of Ireland and I know the Mark Hughes that signed for scuthorpe United, he was a promising midfielder (not a striker) here and went on trial with Scunthorpe while they were in Ireland on their pre season tour of the country. The 19 year old Mark Hughes was at a few youth clubs in Ireland but for some reason never made a first team apperance with any League of Ireland club. Its hard to believe without making a first team app here in Ireland he got a contract in UK. There must have been a agent involved in getting him across the water.   \n",
       "18467                                                                                                                                                                                                                                                                                                                                                                                                                                                                                                                                                                                                                                                                                                                                                                                                                                                                                                                                                                                                                                                                                                                                                                                                                                                                                                                                                                                                                                                                                                                                                                                                                                                                                                                                                                                                                                                                                                                                                                                                                                                                                                                                                                                                                                                                                                                                                                                                                                                                                                                                                                                                                                                                                                                                                                                                                                                                                                                                         \"\\n\\nAs I explained in an edit summary this sentence attempts to summarise the information in mephedrone#UK. 'People have died after taking mephedrone' is intended to summarise \"\"mephedrone had been alleged to be involved in 52 fatalities in the UK, but detected in only 38 of these cases\"\". Likewise 'some deaths the media attributed to the drug were later determined to have been caused by other factors' is summarising \"\"The death of a teenager in the UK in November 2009 was widely reported as being caused by mephedrone, but a report by the coroner concluded she had died from natural causes. In March 2010, the deaths of two teenagers in Scunthorpe were widely reported by the media to be caused by mephedrone. Toxicology reports showed the teenagers had not taken any mephedrone and had died as a result of consuming alcohol and the heroin substitute methadone\"\". Both parts are important and should be mentioned in the lead and if you read the references you should realise that this is exceptional to mephedrone as deaths were over-reported and mis-reported by the media - comparisons with other topics are irrelevant. I agree that it is a bit weasely, but how else to you suggest that that section is summarised? WP:LEADCITE is very vague about whether citations are required and when I wrote the lead I erred on making it easier to read rather than ensuring that every fact was supported by a citation there (Wikipedia:Citation_overkill). I could easily copy the references from the main article to the lead for this sentence, but then someone will likely come along and complain that other sentences don't have citations... IMO this is a waste of time when readers could just find the relevant citations in the main body of the article.   \"   \n",
       "10614                                                                                                                                                                                                                                                                                                                                                                                                                                                                                                                                                                                                                                                                                                                                                                                                                                                                                                                                                                                                                                                                                                                                                                                                                                                                                                                                                                                                                                                                                                                                                                                                                                                                                                                                                                                                                                                                                                                                                                                                                                                                                                                                                                                                                                                                                                                                                                                                                                                                                                                                                                                                                                                                                                                                                                                                                                                                                                  Hi again Antandrus.  I agree with your point two, of course - I mean that sincerely.  My problem is that I've been editing anonymously for a while, I really don't know how long, and time was that I didn't have any problems with people randomly and arbitrarily undoing my work.  At some point this began to happen.  It is incredibly offensive.  In fact, to me, it is much more offensive than if someone called me a cunt.  The first time, I assumed it was an isolated incident, but then it happened again... and again... and again.  At least 10 times, and perhaps 20 times or more, my edits have been reverted, often with no explanation, and sometimes with accusations of vandalism.  It's been many months since the first time.  And whether you take a polite tone, or you just mouth off at everyone, the end result is exactly the same.  I have seen probably three or maybe four editors, yourself included, who have taken what I thought was the obvious view that you shouldn't arbitrarily revert IP edits, and I have seen at least ten times as many editors who revert arbitrarily, and plenty who invent post-hoc justifications for their actions.\\nThese arbitrary reverts are a real slap in the face.  I get more satisfaction out of responding viciously than I would out of responding politely, and the end result is exactly the same.  It's very, very depressing to see how reasonable, sensible people like yourself became the minority.  Believe me, if you were the majority, I would not be viciously slagging off anyone.\\nMy IP will change at some point, I don't force it to but it does.  I have no respect for the blocks that result from me being accused of vandalism, so I ignore them.  And I keep on trying to improve articles, and eventually, the same will happen.  So be it.  190.45.54.212   \n",
       "33452  \"\\n\\n Comment \\n\\nMy comments on Malleus' talk page were well beyond civil, even for a user talk page. They were a personal attack, and warranted serious sanction. \\n\\nFor the record, it was a simple spontaneous eruption of contempt mingled with rage. Some have muttered that I went to his page to harass him; that's not the case. I went to continue a discussion that had been interrupted by earlier admin action. Some are muttering that I went there to \"\"bait\"\" or \"\"poke\"\" him into a block. I appreciate the complement but my Machiavellian intelligence is non-existant. Obviously. \\n\\nI lost respect for Malleus when he said, \"\"You already succeeded in getting me blocked, so I can only presume that you're trying to repeat the trick.\"\" I had made it clear that I had no intention of getting him blocked, he knew it, and yet regurgitated this populist slur. That's where he opened the door for my unmitigated opinion.\\n\\nBut my rant wasn't aimed at the dishonesty I perceived in that comment, that simply gave me permission to express a much deeper revulsion that's been building in me over the last few months with respect to this project. \\n\\nIt's a feeling, so I'm not sure I can make it clear. A kind of nauseous disgust. It's to do with how we deal with the hurt we may cause others, other editors, our subjects and our readers. I'm pleased to see the faltering steps being taken toward a more civil ethos here. Those who actually know me know that means a great deal to me. There is a long way to go. Pesky pointed out that finding the right form of words for what's required is difficult. I agree. That's the challenge. The right form of words will emerge if we discuss these questions enough.\\n\\nWith regard to respectful discourse between editors, Malleus has been addressing the real root of the civility problem here for years. Telling someone to fuck off, or calling them a cunt is obviously uncivil and an easy call for an admin. But the real evil here is not Malleus and me calling each other names, it's the sleazy aside from one editor to another, undermining the reputation of a third. One editor can bully or badger another for days or weeks without ever calling them a name, and it's their victim that cops a block when they respond accordingly. So I'm glad to see more admins taking civility seriously, but you're going to have to work on the sophistication of your approach.\\n\\nI'm disgusted by the way this project treats its readers with regard to controversial images. The bit that disgusts me is the mantra that \"\"we don't care if we offend our readers.\"\" Seriously. That has been repeated ad nauseam during the Muhammad images debates and others. I can see no excuse for that attitude, and don't want to participate in an enterprise that has that attitude towards its readership.\\n\\nAnd finally, contempt for our subjects. I first noticed this on a BLP. A teenage girl and her boyfriend made a sex tape. Later, when she was a minor local celebrity, the tape was posted on the net, without her permission. It's there now; Google her name and \"\"sex tape\"\" and you got it. She's now won a TV competition, so is becoming better known.\\n\\nThe tape's existence has been mentioned a few times in the press, but not much, and usually the \"\"nudge, nudge, lucky bastard\"\" type of comment, but it doesn't seem to have affected her career or even her private life. An RfC asked \"\"Should we mention the tape?\"\" Policy-wise you can make a case for its inclusion, but it's borderline. What really disgusted me was the utter unconcern of many editors for the effect our inclusion of the factoid would have on the visibility of the tape, and the consequent effect this would have on the woman. I won't elaborate further; you either get it or you don't.\\n\\nAnd it was concern for the subject of a BLP that brought Malleus and me together. He was arguing for the preservation of a borderline notable BLP that the subject said was distressing him. I argued that it should go, simply because it's borderline notable and the subject doesn't want it. \\n\\nAlthough Malleus asserted the wishes of the subject are irrelevant, an assertion he is incapable of justifying, and a position I find morally repugnant, he deemed it appropriate to also declare the subject's claim of distress is implausible. Unfortunately, Jimbo had already primed me with a similar judgment. Jimbo had ignored my response, so I thought I'd add a little emphasis when I explained my view to Malleus.\\n\\nI've suffered chronic pain and fatigue since I had an unnecessary medical intervention at the a   \n",
       "12123                                                                                                                                                                                                                                                                                                                                            \"\\n\\nLiz Jones (born 5 September 1958Anne, I was born in 1958 - and lying about it is my Weakest Link Mail on Sunday, 24 May 2008) is an English journalist and writer. Born in Essex, EnglanLiz Jones' hairy old cuntLiz Jones' hairy old cuntLiz Jones' hairy old cuntLiz Jones' hairy old cuntLiz Jones' hairy old cuntLiz Jones' hairy old cuntLiz Jones' hairy old cuntLiz Jones' hairy old cuntLiz Jones' hairy old cuntLiz Jones' hairy old cuntLiz Jones' hairy old cuntLiz Jones' hairy old cuntLiz Jones' hairy old cuntLiz Jones' hairy old cuntLiz Jones' hairy old cuntLiz Jones' hairy old cuntLiz Jones' hairy old cuntLiz Jones' hairy old cuntLiz Jones' hairy old cuntLiz Jones' hairy old cuntLiz Jones' hairy old cuntLiz Jones' hairy old cuntLiz Jones' hairy old cuntLiz Jones' hairy old cuntLiz Jones' hairy old cuntLiz Jones' hairy old cuntLiz Jones' hairy old cuntLiz Jones' hairy old cuntLiz Jones' hairy old cuntLiz Jones' hairy old cuntLiz Jones' hairy old cuntLiz Jones' hairy old cuntLiz Jones' hairy old cuntLiz Jones' hairy old cuntLiz Jones' hairy old cuntLiz Jones' hairy old cuntLiz Jones' hairy old cuntLiz Jones' hairy old cuntLiz Jones' hairy old cuntLiz Jones' hairy old cuntLiz Jones' hairy old cuntLiz Jones' hairy old cuntLiz Jones' hairy old cuntLiz Jones' hairy old cuntLiz Jones' hairy old cuntLiz Jones' hairy old cuntLiz Jones' hairy old cuntLiz Jones' hairy old cuntLiz Jones' hairy old cuntLiz Jones' hairy old cuntLiz Jones' hairy old cuntLiz Jones' hairy old cuntLiz Jones' hairy old cuntLiz Jones' hairy old cuntLiz Jones' hairy old cuntLiz Jones' hairy old cuntLiz Jones' hairy old cuntLiz Jones' hairy old cuntLiz Jones' hairy old cuntLiz Jones' hairy old cuntLiz Jones' hairy old cuntLiz Jones' hairy old cuntLiz Jones' hairy old cuntLiz Jones' hairy old cuntLiz Jones' hairy old cuntLiz Jones' hairy old cuntLiz Jones' hairy old cuntLiz Jones' hairy old cuntLiz Jones' hairy old cuntLiz Jones' hairy old cuntLiz Jones' hairy old cuntLiz Jones' hairy old cuntLiz Jones' hairy old cuntLiz Jones' hairy old cuntLiz Jones' hairy old cuntLiz Jones' hairy old cuntLiz Jones' hairy old cuntLiz Jones' hairy old cuntLiz Jones' hairy old cuntLiz Jones' hairy old cuntLiz Jones' hairy old cuntLiz Jones' hairy old cuntLiz Jones' hairy old cuntLiz Jones' hairy old cuntLiz Jones' hairy old cuntLiz Jones' hairy old cuntLiz Jones' hairy old cuntLiz Jones' hairy old cuntLiz Jones' hairy old cuntLiz Jones' hairy old cuntLiz Jones' hairy old cuntLiz Jones' hairy old cuntLiz Jones' hairy old cuntLiz Jones' hairy old cuntLiz Jones' hairy old cuntLiz Jones' hairy old cuntLiz Jones' hairy old cuntLiz Jones' hairy old cuntLiz Jones' hairy old cuntLiz Jones' hairy old cuntLiz Jones' hairy old cuntLiz Jones' hairy old cuntLiz Jones' hairy old cuntLiz Jones' hairy old cuntLiz Jones' hairy old cuntLiz Jones' hairy old cuntLiz Jones' hairy old cuntLiz Jones' hairy old cuntLiz Jones' hairy old cuntLiz Jones' hairy old cuntLiz Jones' hairy old cuntLiz Jones' hairy old cuntd to Robert (died 1998) and Edna Jones, she is the youngest of seven children. She attended Brentwood County High School for girls. She currently writes columns for the Daily Mail and the Mail on Sunday. She was previously the editor of British Marie Claire), and has also been an editor at the Evening Standard.Rachel Cooke \"\"Enough about me\"\", The Observer, 2 August 2009, accessed 9 August 2009. \\n\\nJones now lives in Brushford, just south of Dulverton, Somerset with rescued horses and other animals, as she recounts in The Exmoor Files.Liz Jones \"\"The horse that helped me rediscover happiness and saved my life\"\" Daily Mail (Femail) 25 July 2009, accessed 9 August 2009\\n\\nBibliography\\n Bright Wings Broken (1996) ISBN 1-896-32995-0\\n Slave To The Rhythm: The Artist Formerly Known As Prince (1997) ISBN 0-316-64041-7\\n Liz Jones's Diary: How One Single Girl Got Married (2005) ISBN 1-844-00223-3\\n Fur Babies: Why We Love Cats (2007) ISBN 1-844-00518-6\\n The Exmoor Files: How I Lost A Husband And Found Rural Bliss (2009) ISBN 0-297-85443-7\\n The Exmoor Files: How I Lost A Husband And Nearly Found Rural Bliss (2010)  ISBN 0753827085 (revised and updated)\\n\\nReferences\\n\\n External links \\n Liz Jones from the Mail Online.\\n\\n{{Persondata NEWLI   \n",
       "...                                                                                                                                                                                                                                                                                                                                                                                                                                                                                                                                                                                                                                                                                                                                                                                                                                                                                                                                                                                                                                                                                                                                                                                                                                                                                                                                                                                                                                                                                                                                                                                                                                                                                                                                                                                                                                                                                                                                                                                                                                                                                                                                                                                                                                                                                                                                                                                                                                                                                                                                                                                                                                                                                                                                                                                                                                                                                                                                                                                                                                                                                                                                                                                                                                                                                                                                                                                                                                                                                                                                                                                                                                                                                                                                                                                                                                                                                                                                                                                                                                                                                                                                                                                                                                                                                                                                                                                                                                                                                                                                                                                                                                                                                                                                                                ...   \n",
       "28333                                                                                                                                                                                                                                                                                                                                                                                                                                                                                                                                                                                                                                                                                                                                                                                                                                                                                                                                                                                                                                                                                                                                                                                                                                                                                                                                                                                                                                                                                                                                                                                                                                                                                                                                                                                                                                                                                                                                                                                                                                                                                                                                                                                                                                                                                                                                                                                                                                                                                                                                                                                                                                                                                                                                                                                                                                                                                                                                                                                                                                                                                                                                                                                                                                                                                                                                                                                                                                                                                                                                                                                                                                                                                                                                                                                                                                                                                                                                                                                                                                                                                                                                                                                                                                                                                                                                                                                                                                                                                                                                                                                                                                                                                                    Fuck you. Stupid cunt.  Stay in the kitchen where you belong.   \n",
       "32211                                                                                                                                                                                                                                                                                                                                                                                                                                                                                                                                                                                                                                                                                                                                                                                                                                                                                                                                                                                                                                                                                                                                                                                                                                                                                                                                                                                                                                                                                                                                                                                                                                                                                                                                                                                                                                                                                                                                                                                                                                                                                                                                                                                                                                                                                                                                                                                                                                                                                                                                                                                                                                                                                                                                                                                                                                                                                                                                                                                                                                                                                                                                                                                                                                                                                                                                                                                                                                                                                                                                                                                                                                                                                                                                                                                                                                                                                                                                                                                                                                                                                                                                                                                                                                                                                                                                                                                                                                                                                                                                                                                                                                                                                                                                   Twat \\n\\nYou're a fucking cunt   \n",
       "15413                                                                                                                                                                                                                                                                                                                                                                                                                                                                                                                                                                                                                                                                                                                                                                                                                                                                                                                                                                                                                                                                                                                                                                                                                                                                                                                                                                                                                                                                                                                                                                                                                                                                                                                                                                                                                                                                                                                                                                                                                                                                                                                                                                                                                                                                                                                                                                                                                                                                                                                                                                                                                                                                                                                                                                                                                                                                                                                                                                                                                                                                                                                                                                                                                                                                                                                                                                                                                                                                                                                                                                                                                                                                                                                                                                                                                                                                                                                                                                                                                                                                                                                                                                                                                                                                                                                                                                                                                                                                                                                                                                                                                               your moms yummy cunt \\n\\nFucking Bastard\\nyou son of a bitch, asshole, motherfucker, go fuck ur mothers cunt, trade ur wife sister   \n",
       "26158                                                                                                                                                                                                                                                                                                                                                                                                                                                                                                                                                                                                                                                                                                                                                                                                                                                                                                                                                                                                                                                                                                                                                                                                                                                                                                                                                                                                                                                                                                                                                                                                                                                                                                                                                                                                                                                                                                                                                                                                                                                                                                                                                                                                                                                                                                                                                                                                                                                                                                                                                                                                                                                                                                                                                                                                                                                                                                                                                                                                                                                                                                                                                                                                                                                                                                                                                                                                                                                                                                                                                                                                                                                                                                                                                                                                                                                                                                                                                                                                                                                                                                                                                                                                                                                                                                                                                                                                                                                                                                                                                                                                                                                                                                                                        mother fucking cunt bitch   \n",
       "27643                                                                                                                                                                                                                                                                                                                                                                                                                                                                                                                                                                                                                                                                                                                                                                                                                                                                                                                                                                                                                                                                                                                                                                                                                                                                                                                                                                                                                                                                                                                                                                                                                                                                                                                                                                                                                                                                                                                                                                                                                                                                                                                                                                                                                                                                                                                                                                                                                                                                                                                                                                                                                                                                                                                                                                                                                                                                                                                                                                                                                                                                                                                                                                                                                                                                                                                                                                                                                                                                                                                                                                                                                                                                                                                                                                                                                                                                                                                                                                                                                                                                                                                                                                                                                                                                                                                                                                                                                                                                                                                                                                                                                                                                                                                           \"\\n\\n Suck my cunt \\n\\nyou bastard!\"\"\"   \n",
       "\n",
       "          score  toxic  severe_toxic  obscene  threat  insult  identity_hate  \n",
       "23460  0.079162      0             0        0       0       0              0  \n",
       "18467  0.110376      0             0        0       0       0              0  \n",
       "10614  0.525852      0             0        0       0       0              0  \n",
       "33452  0.636407      0             0        0       0       0              0  \n",
       "12123  0.669760      1             0        0       0       0              0  \n",
       "...         ...    ...           ...      ...     ...     ...            ...  \n",
       "28333  0.992595      1             1        1       0       1              0  \n",
       "32211  0.993431      1             0        1       0       1              0  \n",
       "15413  0.993966      1             1        1       0       1              0  \n",
       "26158  0.994263      1             1        1       0       1              0  \n",
       "27643  0.994657      1             0        1       0       1              0  \n",
       "\n",
       "[118 rows x 9 columns]"
      ]
     },
     "execution_count": 11,
     "metadata": {},
     "output_type": "execute_result"
    }
   ],
   "source": [
    "df[df['comment_text'].str.contains(\"cunt\")].sort_values(['score'])"
   ]
  },
  {
   "cell_type": "markdown",
   "metadata": {},
   "source": [
    "When the comment is labled toxic, what is the lowest scored comment and the highest scored comment"
   ]
  },
  {
   "cell_type": "code",
   "execution_count": 12,
   "metadata": {},
   "outputs": [
    {
     "data": {
      "text/plain": [
       "id                                                             00024b59235015f3\n",
       "comment_text     !\\n\\nIt is now inside your bones, your head. Haunt you forever\n",
       "score                                                                  0.054399\n",
       "toxic                                                                         1\n",
       "severe_toxic                                                                  0\n",
       "obscene                                                                       0\n",
       "threat                                                                        0\n",
       "insult                                                                        0\n",
       "identity_hate                                                                 0\n",
       "dtype: object"
      ]
     },
     "execution_count": 12,
     "metadata": {},
     "output_type": "execute_result"
    }
   ],
   "source": [
    "df.loc[df['toxic'] == 1].min()"
   ]
  },
  {
   "cell_type": "code",
   "execution_count": 13,
   "metadata": {},
   "outputs": [
    {
     "data": {
      "text/plain": [
       "id                                                                         fffedeecd0364534\n",
       "comment_text     „Same Ukraininan vandal” — same to who? Russian nazi, stop drinking vodka!\n",
       "score                                                                              0.998329\n",
       "toxic                                                                                     1\n",
       "severe_toxic                                                                              1\n",
       "obscene                                                                                   1\n",
       "threat                                                                                    1\n",
       "insult                                                                                    1\n",
       "identity_hate                                                                             1\n",
       "dtype: object"
      ]
     },
     "execution_count": 13,
     "metadata": {},
     "output_type": "execute_result"
    }
   ],
   "source": [
    "df.loc[df['toxic'] == 1].max()"
   ]
  },
  {
   "cell_type": "markdown",
   "metadata": {},
   "source": [
    "Observing the data so far, many of the lower scored comments are very long whereas the higher scored comments are typically short and dense. I also noticed that casing may have an effect on the rating of the toxicity of comments."
   ]
  },
  {
   "cell_type": "markdown",
   "metadata": {},
   "source": [
    "My hypothesis is that the API determines the score based off of how many toxic words are condensed into the comment relative to the length of the comment and that casing of the comment can lead to a misleading score."
   ]
  },
  {
   "cell_type": "markdown",
   "metadata": {},
   "source": [
    " "
   ]
  },
  {
   "cell_type": "markdown",
   "metadata": {},
   "source": [
    "Arrange the comments according to length and run a linear regression test between the length of comment and score"
   ]
  },
  {
   "cell_type": "code",
   "execution_count": 14,
   "metadata": {},
   "outputs": [
    {
     "data": {
      "text/plain": [
       "[<matplotlib.lines.Line2D at 0x1811bc306a0>]"
      ]
     },
     "execution_count": 14,
     "metadata": {},
     "output_type": "execute_result"
    },
    {
     "data": {
      "image/png": "[encoded data removed]",
      "text/plain": [
       "<Figure size 432x288 with 1 Axes>"
      ]
     },
     "metadata": {
      "needs_background": "light"
     },
     "output_type": "display_data"
    }
   ],
   "source": [
    "length_of_string = np.array([len(x) for x in df['comment_text']]).reshape(-1, 1)\n",
    "reg = LinearRegression().fit(length_of_string, df['score'])\n",
    "plt.plot(length_of_string, df['score'], 'o')\n",
    "plt.plot(length_of_string, reg.predict(length_of_string))"
   ]
  },
  {
   "cell_type": "markdown",
   "metadata": {},
   "source": [
    "Calculate the RMSE of the linear regression"
   ]
  },
  {
   "cell_type": "code",
   "execution_count": 15,
   "metadata": {},
   "outputs": [
    {
     "data": {
      "text/plain": [
       "0.25721322532786994"
      ]
     },
     "execution_count": 15,
     "metadata": {},
     "output_type": "execute_result"
    }
   ],
   "source": [
    "mean_squared_error(df['score'], reg.predict(length_of_string), squared=False)"
   ]
  },
  {
   "cell_type": "markdown",
   "metadata": {},
   "source": [
    "The linear regression test shows that there is a correlation between the length of the comment and the toxicity rating. Although there are many outliers, the RMSE somewhat proves that the Perspective API has a tendency to overlook the toxicity of a comment based on the length of the comment."
   ]
  },
  {
   "cell_type": "markdown",
   "metadata": {},
   "source": [
    " "
   ]
  },
  {
   "cell_type": "markdown",
   "metadata": {},
   "source": [
    "Code to query the API provided from the class template"
   ]
  },
  {
   "cell_type": "code",
   "execution_count": 16,
   "metadata": {},
   "outputs": [],
   "source": [
    "from googleapiclient.discovery import build\n",
    "import json\n",
    "\n",
    "def get_toxicity_score(comment):\n",
    "    \n",
    "  API_KEY = '' # Put your API key here\n",
    "    \n",
    "  client = build(\n",
    "  \"commentanalyzer\",\n",
    "  \"v1alpha1\",\n",
    "  developerKey=API_KEY,\n",
    "  discoveryServiceUrl=\"https://commentanalyzer.googleapis.com/$discovery/rest?version=v1alpha1\",\n",
    "  static_discovery=False,\n",
    "  )\n",
    "\n",
    "  analyze_request = {\n",
    "  'comment': { 'text': comment },\n",
    "  'requestedAttributes': {'TOXICITY': {}}\n",
    "  }\n",
    "    \n",
    "  response = client.comments().analyze(body=analyze_request).execute()\n",
    "  toxicity_score = response[\"attributeScores\"][\"TOXICITY\"][\"summaryScore\"][\"value\"]\n",
    "    \n",
    "  return toxicity_score"
   ]
  },
  {
   "cell_type": "markdown",
   "metadata": {},
   "source": [
    "We can call this function with original comments like this:"
   ]
  },
  {
   "cell_type": "code",
   "execution_count": 17,
   "metadata": {},
   "outputs": [
    {
     "data": {
      "text/plain": [
       "0.05446308"
      ]
     },
     "execution_count": 17,
     "metadata": {},
     "output_type": "execute_result"
    }
   ],
   "source": [
    "get_toxicity_score(\"hello\")"
   ]
  },
  {
   "cell_type": "markdown",
   "metadata": {},
   "source": [
    "Due to the constraint of one request per second, we should insert a time.sleep() statement between consecutive API calls, which will pause execution for one second."
   ]
  },
  {
   "cell_type": "code",
   "execution_count": 18,
   "metadata": {},
   "outputs": [
    {
     "name": "stdout",
     "output_type": "stream",
     "text": [
      "penis 0.89693767\n",
      "PENiS 0.16827652\n",
      "balls 0.6364068\n",
      "gay 0.77029157\n",
      "fuck 0.9671429\n",
      "FuCk 0.69542736\n"
     ]
    }
   ],
   "source": [
    "comment_list = ['penis', 'PENiS', 'balls', 'gay', 'fuck', 'FuCk']\n",
    "\n",
    "for comment in comment_list:\n",
    "    score = get_toxicity_score(comment)\n",
    "    print(comment, score)\n",
    "    time.sleep(1)"
   ]
  },
  {
   "cell_type": "markdown",
   "metadata": {},
   "source": [
    "By querying some words, I discovered that casing matters for the perspective API as the example shows that 'penis' is rated .897 whereas 'PENis', which is the same word with different casing has an alarmingly lower rating of .168.\n",
    "\n",
    "Although words like penis and gay can be used in a toxic manner, the words are scored relatively high for words that aren't necessarily toxic. These are some examples of false positives from the Perspective API and it concerns me that the comment \"„Same Ukraininan vandal” — same to who? Russian nazi, stop drinking vodka!\" is marked as toxic, severe_toxic, obscene, threat, insult, and identity_hate with the highest score of .998329 out of 40 thousand entries even though there are other comments that are far worse in my opinion. \n",
    "\n",
    "However the Perspective API aside from a few biases does a really good job of pinpointing toxic comments. I found it impressive that the API can familiarize itself with common characteristics of toxic comments and label a comment to it's respective label. Considering the many nuances a comment can have and bias found in humans, the Perspective API demonstrates the capabilities of machine learning in real life application. "
   ]
  }
 ],
 "metadata": {
  "kernelspec": {
   "display_name": "Python 3 (ipykernel)",
   "language": "python",
   "name": "python3"
  },
  "language_info": {
   "codemirror_mode": {
    "name": "ipython",
    "version": 3
   },
   "file_extension": ".py",
   "mimetype": "text/x-python",
   "name": "python",
   "nbconvert_exporter": "python",
   "pygments_lexer": "ipython3",
   "version": "3.9.4"
  }
 },
 "nbformat": 4,
 "nbformat_minor": 2
}
